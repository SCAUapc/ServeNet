{
 "cells": [
  {
   "cell_type": "code",
   "execution_count": 1,
   "metadata": {},
   "outputs": [],
   "source": [
    "import json\n",
    "import numpy as np\n",
    "import h5py\n",
    "import pandas as pd\n",
    "import matplotlib.pyplot as plt\n",
    "from scipy import stats\n",
    "from pandas.io.json import json_normalize\n",
    "from pandas import HDFStore, read_hdf\n",
    "\n",
    "%matplotlib inline "
   ]
  },
  {
   "cell_type": "markdown",
   "metadata": {},
   "source": [
    "### Test Json Loading"
   ]
  },
  {
   "cell_type": "code",
   "execution_count": 111,
   "metadata": {},
   "outputs": [],
   "source": [
    "data = [\n",
    "  {\n",
    "    'name': {\n",
    "      'first': 'vikash',\n",
    "      'last': 'singh'\n",
    "    },\n",
    "    'age': 27\n",
    "  },\n",
    "  {\n",
    "    'name': {\n",
    "      'first': 'satyam',\n",
    "      'last': 'singh'\n",
    "    },\n",
    "    'age': 14\n",
    "  }\n",
    "]\n"
   ]
  },
  {
   "cell_type": "code",
   "execution_count": 112,
   "metadata": {},
   "outputs": [
    {
     "data": {
      "text/html": [
       "<div>\n",
       "<style>\n",
       "    .dataframe thead tr:only-child th {\n",
       "        text-align: right;\n",
       "    }\n",
       "\n",
       "    .dataframe thead th {\n",
       "        text-align: left;\n",
       "    }\n",
       "\n",
       "    .dataframe tbody tr th {\n",
       "        vertical-align: top;\n",
       "    }\n",
       "</style>\n",
       "<table border=\"1\" class=\"dataframe\">\n",
       "  <thead>\n",
       "    <tr style=\"text-align: right;\">\n",
       "      <th></th>\n",
       "      <th>age</th>\n",
       "      <th>name.first</th>\n",
       "      <th>name.last</th>\n",
       "    </tr>\n",
       "  </thead>\n",
       "  <tbody>\n",
       "    <tr>\n",
       "      <th>0</th>\n",
       "      <td>27</td>\n",
       "      <td>vikash</td>\n",
       "      <td>singh</td>\n",
       "    </tr>\n",
       "    <tr>\n",
       "      <th>1</th>\n",
       "      <td>14</td>\n",
       "      <td>satyam</td>\n",
       "      <td>singh</td>\n",
       "    </tr>\n",
       "  </tbody>\n",
       "</table>\n",
       "</div>"
      ],
      "text/plain": [
       "   age  \\\n",
       "0   27   \n",
       "1   14   \n",
       "\n",
       "  name.first  \\\n",
       "0     vikash   \n",
       "1     satyam   \n",
       "\n",
       "  name.last  \n",
       "0     singh  \n",
       "1     singh  "
      ]
     },
     "execution_count": 112,
     "metadata": {},
     "output_type": "execute_result"
    }
   ],
   "source": [
    "df = pd.DataFrame.from_dict(json_normalize(data), orient='columns')\n",
    "df"
   ]
  },
  {
   "cell_type": "markdown",
   "metadata": {},
   "source": [
    "## 1. Load from Text"
   ]
  },
  {
   "cell_type": "code",
   "execution_count": 113,
   "metadata": {
    "scrolled": true
   },
   "outputs": [],
   "source": [
    "with open('ProgrammWebScrapy.txt', encoding='utf-8') as data_file:\n",
    "    f = data_file.read()\n",
    "    data = json.loads(f, strict=False)"
   ]
  },
  {
   "cell_type": "code",
   "execution_count": 114,
   "metadata": {},
   "outputs": [],
   "source": [
    "df = pd.DataFrame.from_dict(json_normalize(data), orient='columns')"
   ]
  },
  {
   "cell_type": "code",
   "execution_count": 115,
   "metadata": {
    "scrolled": false
   },
   "outputs": [
    {
     "data": {
      "text/html": [
       "<div>\n",
       "<style>\n",
       "    .dataframe thead tr:only-child th {\n",
       "        text-align: right;\n",
       "    }\n",
       "\n",
       "    .dataframe thead th {\n",
       "        text-align: left;\n",
       "    }\n",
       "\n",
       "    .dataframe tbody tr th {\n",
       "        vertical-align: top;\n",
       "    }\n",
       "</style>\n",
       "<table border=\"1\" class=\"dataframe\">\n",
       "  <thead>\n",
       "    <tr style=\"text-align: right;\">\n",
       "      <th></th>\n",
       "      <th>APIEndpoint</th>\n",
       "      <th>APIForumMessageBoards</th>\n",
       "      <th>APIPortalHomePage</th>\n",
       "      <th>APIProvider</th>\n",
       "      <th>ArchitecturalStyle</th>\n",
       "      <th>AuthenticationModel</th>\n",
       "      <th>Description</th>\n",
       "      <th>DeviceSpecific</th>\n",
       "      <th>DocsHomePageUR</th>\n",
       "      <th>IsThisanUnofficialAPI</th>\n",
       "      <th>IstheAPIDesign</th>\n",
       "      <th>PrimaryCategory</th>\n",
       "      <th>RestrictedAccess</th>\n",
       "      <th>SSLSupport</th>\n",
       "      <th>Scope</th>\n",
       "      <th>SecondaryCategories</th>\n",
       "      <th>SupportEmailAddress</th>\n",
       "      <th>SupportedRequestFormats</th>\n",
       "      <th>SupportedResponseFormats</th>\n",
       "      <th>Title</th>\n",
       "    </tr>\n",
       "  </thead>\n",
       "  <tbody>\n",
       "    <tr>\n",
       "      <th>1</th>\n",
       "      <td>http://twitter.com/statuses/</td>\n",
       "      <td>http://groups.google.com/group/twitter-develop...</td>\n",
       "      <td>https://dev.twitter.com/rest/public</td>\n",
       "      <td>Twitter</td>\n",
       "      <td>REST</td>\n",
       "      <td>OAuth 2</td>\n",
       "      <td>It has been split into multiple APIs, includin...</td>\n",
       "      <td>No</td>\n",
       "      <td>https://dev.twitter.com/rest/public</td>\n",
       "      <td>No</td>\n",
       "      <td>Yes</td>\n",
       "      <td>Social</td>\n",
       "      <td>No</td>\n",
       "      <td>No</td>\n",
       "      <td>Single purpose API</td>\n",
       "      <td>Blogging</td>\n",
       "      <td>api@twitter.com</td>\n",
       "      <td>URI Query String/CRUD</td>\n",
       "      <td>Atom, JSON, RSS, XML</td>\n",
       "      <td>Twitter API</td>\n",
       "    </tr>\n",
       "    <tr>\n",
       "      <th>2</th>\n",
       "      <td>https://www.youtube.com/iframe_api</td>\n",
       "      <td>http://groups.google.com/group/youtube-api/</td>\n",
       "      <td>https://developers.google.com/youtube/</td>\n",
       "      <td>Google</td>\n",
       "      <td>REST</td>\n",
       "      <td>API Key</td>\n",
       "      <td>The Data API allows users to integrate their p...</td>\n",
       "      <td>No</td>\n",
       "      <td>https://developers.google.com/youtube/</td>\n",
       "      <td>No</td>\n",
       "      <td>No</td>\n",
       "      <td>Video</td>\n",
       "      <td>No</td>\n",
       "      <td>No</td>\n",
       "      <td>Single purpose API</td>\n",
       "      <td>Media</td>\n",
       "      <td>NaN</td>\n",
       "      <td>Atom, GData, RSS, URI Query String/CRUD, Atom ...</td>\n",
       "      <td>XML, JSON, GData, Atom, RSS</td>\n",
       "      <td>YouTube API</td>\n",
       "    </tr>\n",
       "    <tr>\n",
       "      <th>3</th>\n",
       "      <td>http://api.flickr.com/services/</td>\n",
       "      <td>http://www.flickr.com/groups/api</td>\n",
       "      <td>http://www.flickr.com/services/api/</td>\n",
       "      <td>Flickr</td>\n",
       "      <td>REST</td>\n",
       "      <td>OAuth 1</td>\n",
       "      <td>The Flickr API can be used to retrieve photos ...</td>\n",
       "      <td>No</td>\n",
       "      <td>http://www.flickr.com/services/api/</td>\n",
       "      <td>No</td>\n",
       "      <td>No</td>\n",
       "      <td>Photos</td>\n",
       "      <td>No</td>\n",
       "      <td>Yes</td>\n",
       "      <td>Single purpose API</td>\n",
       "      <td>Video</td>\n",
       "      <td>NaN</td>\n",
       "      <td>URI Query String/CRUD, XML, PHP, XML-RPC</td>\n",
       "      <td>JSON, XML, PHP, XML-RPC</td>\n",
       "      <td>Flickr API</td>\n",
       "    </tr>\n",
       "    <tr>\n",
       "      <th>4</th>\n",
       "      <td>http://api.facebook.com/restserver.php</td>\n",
       "      <td>http://forum.developers.facebook.com/</td>\n",
       "      <td>https://developers.facebook.com/</td>\n",
       "      <td>Facebook</td>\n",
       "      <td>REST</td>\n",
       "      <td>API Key, OAuth 2</td>\n",
       "      <td>Its functions have been split among the follow...</td>\n",
       "      <td>No</td>\n",
       "      <td>https://developers.facebook.com/</td>\n",
       "      <td>No</td>\n",
       "      <td>No</td>\n",
       "      <td>Social</td>\n",
       "      <td>No</td>\n",
       "      <td>Yes</td>\n",
       "      <td>Single purpose API</td>\n",
       "      <td>Webhooks</td>\n",
       "      <td>NaN</td>\n",
       "      <td>URI Query String/CRUD</td>\n",
       "      <td>JSON</td>\n",
       "      <td>Facebook API</td>\n",
       "    </tr>\n",
       "    <tr>\n",
       "      <th>5</th>\n",
       "      <td>http://webservices.amazon.com/</td>\n",
       "      <td>http://developer.amazonwebservices.com/connect...</td>\n",
       "      <td>https://affiliate-program.amazon.com/gp/advert...</td>\n",
       "      <td>Amazon</td>\n",
       "      <td>REST</td>\n",
       "      <td>API Key</td>\n",
       "      <td>What was formerly the ECSeCommerce Servicehas ...</td>\n",
       "      <td>No</td>\n",
       "      <td>https://docs.aws.amazon.com/AWSECommerceServic...</td>\n",
       "      <td>No</td>\n",
       "      <td>Yes</td>\n",
       "      <td>eCommerce</td>\n",
       "      <td>Yes</td>\n",
       "      <td>No</td>\n",
       "      <td>Single purpose API</td>\n",
       "      <td>Advertising</td>\n",
       "      <td>NaN</td>\n",
       "      <td>SOAP, XML</td>\n",
       "      <td>SOAP, XML</td>\n",
       "      <td>Amazon Product Advertising API</td>\n",
       "    </tr>\n",
       "    <tr>\n",
       "      <th>6</th>\n",
       "      <td>https://api.twilio.com/2010-04-01</td>\n",
       "      <td>https://www.twilio.com/blog</td>\n",
       "      <td>http://www.twilio.com</td>\n",
       "      <td>Twilio</td>\n",
       "      <td>REST</td>\n",
       "      <td>API Key, HTTP Basic Auth</td>\n",
       "      <td>Twilio provides a simple hosted API and markup...</td>\n",
       "      <td>No</td>\n",
       "      <td>https://www.twilio.com/docs/api/rest</td>\n",
       "      <td>No</td>\n",
       "      <td>No</td>\n",
       "      <td>Telephony</td>\n",
       "      <td>No</td>\n",
       "      <td>Yes</td>\n",
       "      <td>Single purpose API</td>\n",
       "      <td>Cloud, Text-to-Speech, Voice, Webhooks</td>\n",
       "      <td>help@twilio.com</td>\n",
       "      <td>URI Query String/CRUD</td>\n",
       "      <td>CSV, HTML, JSON, XML</td>\n",
       "      <td>Twilio API</td>\n",
       "    </tr>\n",
       "    <tr>\n",
       "      <th>7</th>\n",
       "      <td>http://ws.audioscrobbler.com/2.0/</td>\n",
       "      <td>http://www.last.fm/group/Last.fm+Web+Services/...</td>\n",
       "      <td>http://www.last.fm/api</td>\n",
       "      <td>Last.fm</td>\n",
       "      <td>REST</td>\n",
       "      <td>API Key, Shared Secret, Token</td>\n",
       "      <td>The Last.fm API gives users the ability to bui...</td>\n",
       "      <td>No</td>\n",
       "      <td>http://www.last.fm/api</td>\n",
       "      <td>No</td>\n",
       "      <td>Yes</td>\n",
       "      <td>Music</td>\n",
       "      <td>No</td>\n",
       "      <td>No</td>\n",
       "      <td>Single purpose API</td>\n",
       "      <td>NaN</td>\n",
       "      <td>office@last.fm</td>\n",
       "      <td>URI Query String/CRUD</td>\n",
       "      <td>JSON, XML</td>\n",
       "      <td>Last.fm API</td>\n",
       "    </tr>\n",
       "    <tr>\n",
       "      <th>8</th>\n",
       "      <td>http://developer.ebay.com/webservices/latest/e...</td>\n",
       "      <td>http://developer.ebay.com/community/forums/</td>\n",
       "      <td>https://go.developer.ebay.com/developers/ebay</td>\n",
       "      <td>NaN</td>\n",
       "      <td>REST</td>\n",
       "      <td>NaN</td>\n",
       "      <td>eBay's primary web services are found in the t...</td>\n",
       "      <td>No</td>\n",
       "      <td>https://go.developer.ebay.com/developers/ebay</td>\n",
       "      <td>No</td>\n",
       "      <td>No</td>\n",
       "      <td>Search</td>\n",
       "      <td>No</td>\n",
       "      <td>Yes</td>\n",
       "      <td>Single purpose API</td>\n",
       "      <td>Auctions, eCommerce</td>\n",
       "      <td>NaN</td>\n",
       "      <td>XML, SOAP, URI Query String/CRUD, name-value</td>\n",
       "      <td>XML, SOAP, JSON</td>\n",
       "      <td>eBay API</td>\n",
       "    </tr>\n",
       "    <tr>\n",
       "      <th>9</th>\n",
       "      <td>NaN</td>\n",
       "      <td>http://forum.twilio.com/twilio/?from_gsfn=true</td>\n",
       "      <td>http://www.twilio.com/sms</td>\n",
       "      <td>NaN</td>\n",
       "      <td>REST</td>\n",
       "      <td>NaN</td>\n",
       "      <td>Twilio provides a simple hosted API and markup...</td>\n",
       "      <td>No</td>\n",
       "      <td>http://www.twilio.com/sms</td>\n",
       "      <td>No</td>\n",
       "      <td>No</td>\n",
       "      <td>Messaging</td>\n",
       "      <td>No</td>\n",
       "      <td>Yes</td>\n",
       "      <td>Single purpose API</td>\n",
       "      <td>Telephony, USA</td>\n",
       "      <td>NaN</td>\n",
       "      <td>None Specified</td>\n",
       "      <td>XML</td>\n",
       "      <td>Twilio SMS API</td>\n",
       "    </tr>\n",
       "    <tr>\n",
       "      <th>10</th>\n",
       "      <td>See-&gt; http://dev.live.com/virtualearth/sdk/</td>\n",
       "      <td>http://social.msdn.microsoft.com/forums/en-US/...</td>\n",
       "      <td>http://www.microsoft.com/maps/choose-your-bing...</td>\n",
       "      <td>Microsoft</td>\n",
       "      <td>Indirect</td>\n",
       "      <td>API Key</td>\n",
       "      <td>Bing Maps API and Interactive SDK features an ...</td>\n",
       "      <td>No</td>\n",
       "      <td>http://www.microsoft.com/maps/choose-your-bing...</td>\n",
       "      <td>No</td>\n",
       "      <td>No</td>\n",
       "      <td>Mapping</td>\n",
       "      <td>No</td>\n",
       "      <td>Yes</td>\n",
       "      <td>Single purpose API</td>\n",
       "      <td>Viewer</td>\n",
       "      <td>NaN</td>\n",
       "      <td>KML, XML, GeoRSS, JavaScript</td>\n",
       "      <td>KML</td>\n",
       "      <td>Microsoft Bing Maps API</td>\n",
       "    </tr>\n",
       "  </tbody>\n",
       "</table>\n",
       "</div>"
      ],
      "text/plain": [
       "                                          APIEndpoint  \\\n",
       "1                        http://twitter.com/statuses/   \n",
       "2                  https://www.youtube.com/iframe_api   \n",
       "3                     http://api.flickr.com/services/   \n",
       "4              http://api.facebook.com/restserver.php   \n",
       "5                      http://webservices.amazon.com/   \n",
       "6                   https://api.twilio.com/2010-04-01   \n",
       "7                   http://ws.audioscrobbler.com/2.0/   \n",
       "8   http://developer.ebay.com/webservices/latest/e...   \n",
       "9                                                 NaN   \n",
       "10        See-> http://dev.live.com/virtualearth/sdk/   \n",
       "\n",
       "                                APIForumMessageBoards  \\\n",
       "1   http://groups.google.com/group/twitter-develop...   \n",
       "2         http://groups.google.com/group/youtube-api/   \n",
       "3                    http://www.flickr.com/groups/api   \n",
       "4               http://forum.developers.facebook.com/   \n",
       "5   http://developer.amazonwebservices.com/connect...   \n",
       "6                         https://www.twilio.com/blog   \n",
       "7   http://www.last.fm/group/Last.fm+Web+Services/...   \n",
       "8         http://developer.ebay.com/community/forums/   \n",
       "9      http://forum.twilio.com/twilio/?from_gsfn=true   \n",
       "10  http://social.msdn.microsoft.com/forums/en-US/...   \n",
       "\n",
       "                                    APIPortalHomePage  \\\n",
       "1                 https://dev.twitter.com/rest/public   \n",
       "2              https://developers.google.com/youtube/   \n",
       "3                 http://www.flickr.com/services/api/   \n",
       "4                    https://developers.facebook.com/   \n",
       "5   https://affiliate-program.amazon.com/gp/advert...   \n",
       "6                               http://www.twilio.com   \n",
       "7                              http://www.last.fm/api   \n",
       "8       https://go.developer.ebay.com/developers/ebay   \n",
       "9                           http://www.twilio.com/sms   \n",
       "10  http://www.microsoft.com/maps/choose-your-bing...   \n",
       "\n",
       "   APIProvider  \\\n",
       "1      Twitter   \n",
       "2       Google   \n",
       "3       Flickr   \n",
       "4     Facebook   \n",
       "5       Amazon   \n",
       "6       Twilio   \n",
       "7      Last.fm   \n",
       "8          NaN   \n",
       "9          NaN   \n",
       "10   Microsoft   \n",
       "\n",
       "   ArchitecturalStyle  \\\n",
       "1                REST   \n",
       "2                REST   \n",
       "3                REST   \n",
       "4                REST   \n",
       "5                REST   \n",
       "6                REST   \n",
       "7                REST   \n",
       "8                REST   \n",
       "9                REST   \n",
       "10           Indirect   \n",
       "\n",
       "              AuthenticationModel  \\\n",
       "1                         OAuth 2   \n",
       "2                         API Key   \n",
       "3                         OAuth 1   \n",
       "4                API Key, OAuth 2   \n",
       "5                         API Key   \n",
       "6        API Key, HTTP Basic Auth   \n",
       "7   API Key, Shared Secret, Token   \n",
       "8                             NaN   \n",
       "9                             NaN   \n",
       "10                        API Key   \n",
       "\n",
       "                                          Description  \\\n",
       "1   It has been split into multiple APIs, includin...   \n",
       "2   The Data API allows users to integrate their p...   \n",
       "3   The Flickr API can be used to retrieve photos ...   \n",
       "4   Its functions have been split among the follow...   \n",
       "5   What was formerly the ECSeCommerce Servicehas ...   \n",
       "6   Twilio provides a simple hosted API and markup...   \n",
       "7   The Last.fm API gives users the ability to bui...   \n",
       "8   eBay's primary web services are found in the t...   \n",
       "9   Twilio provides a simple hosted API and markup...   \n",
       "10  Bing Maps API and Interactive SDK features an ...   \n",
       "\n",
       "   DeviceSpecific  \\\n",
       "1              No   \n",
       "2              No   \n",
       "3              No   \n",
       "4              No   \n",
       "5              No   \n",
       "6              No   \n",
       "7              No   \n",
       "8              No   \n",
       "9              No   \n",
       "10             No   \n",
       "\n",
       "                                       DocsHomePageUR  \\\n",
       "1                 https://dev.twitter.com/rest/public   \n",
       "2              https://developers.google.com/youtube/   \n",
       "3                 http://www.flickr.com/services/api/   \n",
       "4                    https://developers.facebook.com/   \n",
       "5   https://docs.aws.amazon.com/AWSECommerceServic...   \n",
       "6                https://www.twilio.com/docs/api/rest   \n",
       "7                              http://www.last.fm/api   \n",
       "8       https://go.developer.ebay.com/developers/ebay   \n",
       "9                           http://www.twilio.com/sms   \n",
       "10  http://www.microsoft.com/maps/choose-your-bing...   \n",
       "\n",
       "   IsThisanUnofficialAPI  \\\n",
       "1                     No   \n",
       "2                     No   \n",
       "3                     No   \n",
       "4                     No   \n",
       "5                     No   \n",
       "6                     No   \n",
       "7                     No   \n",
       "8                     No   \n",
       "9                     No   \n",
       "10                    No   \n",
       "\n",
       "   IstheAPIDesign  \\\n",
       "1             Yes   \n",
       "2              No   \n",
       "3              No   \n",
       "4              No   \n",
       "5             Yes   \n",
       "6              No   \n",
       "7             Yes   \n",
       "8              No   \n",
       "9              No   \n",
       "10             No   \n",
       "\n",
       "   PrimaryCategory  \\\n",
       "1           Social   \n",
       "2            Video   \n",
       "3           Photos   \n",
       "4           Social   \n",
       "5        eCommerce   \n",
       "6        Telephony   \n",
       "7            Music   \n",
       "8           Search   \n",
       "9        Messaging   \n",
       "10         Mapping   \n",
       "\n",
       "   RestrictedAccess  \\\n",
       "1                No   \n",
       "2                No   \n",
       "3                No   \n",
       "4                No   \n",
       "5               Yes   \n",
       "6                No   \n",
       "7                No   \n",
       "8                No   \n",
       "9                No   \n",
       "10               No   \n",
       "\n",
       "   SSLSupport  \\\n",
       "1          No   \n",
       "2          No   \n",
       "3         Yes   \n",
       "4         Yes   \n",
       "5          No   \n",
       "6         Yes   \n",
       "7          No   \n",
       "8         Yes   \n",
       "9         Yes   \n",
       "10        Yes   \n",
       "\n",
       "                 Scope  \\\n",
       "1   Single purpose API   \n",
       "2   Single purpose API   \n",
       "3   Single purpose API   \n",
       "4   Single purpose API   \n",
       "5   Single purpose API   \n",
       "6   Single purpose API   \n",
       "7   Single purpose API   \n",
       "8   Single purpose API   \n",
       "9   Single purpose API   \n",
       "10  Single purpose API   \n",
       "\n",
       "                       SecondaryCategories  \\\n",
       "1                                 Blogging   \n",
       "2                                    Media   \n",
       "3                                    Video   \n",
       "4                                 Webhooks   \n",
       "5                              Advertising   \n",
       "6   Cloud, Text-to-Speech, Voice, Webhooks   \n",
       "7                                      NaN   \n",
       "8                      Auctions, eCommerce   \n",
       "9                           Telephony, USA   \n",
       "10                                  Viewer   \n",
       "\n",
       "   SupportEmailAddress  \\\n",
       "1      api@twitter.com   \n",
       "2                  NaN   \n",
       "3                  NaN   \n",
       "4                  NaN   \n",
       "5                  NaN   \n",
       "6      help@twilio.com   \n",
       "7       office@last.fm   \n",
       "8                  NaN   \n",
       "9                  NaN   \n",
       "10                 NaN   \n",
       "\n",
       "                              SupportedRequestFormats  \\\n",
       "1                               URI Query String/CRUD   \n",
       "2   Atom, GData, RSS, URI Query String/CRUD, Atom ...   \n",
       "3            URI Query String/CRUD, XML, PHP, XML-RPC   \n",
       "4                               URI Query String/CRUD   \n",
       "5                                           SOAP, XML   \n",
       "6                               URI Query String/CRUD   \n",
       "7                               URI Query String/CRUD   \n",
       "8        XML, SOAP, URI Query String/CRUD, name-value   \n",
       "9                                      None Specified   \n",
       "10                       KML, XML, GeoRSS, JavaScript   \n",
       "\n",
       "       SupportedResponseFormats  \\\n",
       "1          Atom, JSON, RSS, XML   \n",
       "2   XML, JSON, GData, Atom, RSS   \n",
       "3       JSON, XML, PHP, XML-RPC   \n",
       "4                          JSON   \n",
       "5                     SOAP, XML   \n",
       "6          CSV, HTML, JSON, XML   \n",
       "7                     JSON, XML   \n",
       "8               XML, SOAP, JSON   \n",
       "9                           XML   \n",
       "10                          KML   \n",
       "\n",
       "                             Title  \n",
       "1                      Twitter API  \n",
       "2                      YouTube API  \n",
       "3                       Flickr API  \n",
       "4                     Facebook API  \n",
       "5   Amazon Product Advertising API  \n",
       "6                       Twilio API  \n",
       "7                      Last.fm API  \n",
       "8                         eBay API  \n",
       "9                   Twilio SMS API  \n",
       "10         Microsoft Bing Maps API  "
      ]
     },
     "execution_count": 115,
     "metadata": {},
     "output_type": "execute_result"
    }
   ],
   "source": [
    "df[1:11]"
   ]
  },
  {
   "cell_type": "code",
   "execution_count": 116,
   "metadata": {},
   "outputs": [
    {
     "data": {
      "text/plain": [
       "(15344, 20)"
      ]
     },
     "execution_count": 116,
     "metadata": {},
     "output_type": "execute_result"
    }
   ],
   "source": [
    "df.shape"
   ]
  },
  {
   "cell_type": "code",
   "execution_count": 117,
   "metadata": {},
   "outputs": [
    {
     "data": {
      "text/plain": [
       "Index(['APIEndpoint',\n",
       "       'APIForumMessageBoards',\n",
       "       'APIPortalHomePage',\n",
       "       'APIProvider',\n",
       "       'ArchitecturalStyle',\n",
       "       'AuthenticationModel',\n",
       "       'Description',\n",
       "       'DeviceSpecific',\n",
       "       'DocsHomePageUR',\n",
       "       'IsThisanUnofficialAPI',\n",
       "       'IstheAPIDesign',\n",
       "       'PrimaryCategory',\n",
       "       'RestrictedAccess',\n",
       "       'SSLSupport',\n",
       "       'Scope',\n",
       "       'SecondaryCategories',\n",
       "       'SupportEmailAddress',\n",
       "       'SupportedRequestFormats',\n",
       "       'SupportedResponseFormats',\n",
       "       'Title'],\n",
       "      dtype='object')"
      ]
     },
     "execution_count": 117,
     "metadata": {},
     "output_type": "execute_result"
    }
   ],
   "source": [
    "df.columns"
   ]
  },
  {
   "cell_type": "code",
   "execution_count": 118,
   "metadata": {},
   "outputs": [
    {
     "data": {
      "text/plain": [
       "0                                Mapping\n",
       "1                                 Social\n",
       "2                                  Video\n",
       "3                                 Photos\n",
       "4                                 Social\n",
       "5                              eCommerce\n",
       "6                              Telephony\n",
       "7                                  Music\n",
       "8                                 Search\n",
       "9                              Messaging\n",
       "10                               Mapping\n",
       "11                             Bookmarks\n",
       "12                                 Tools\n",
       "13                                Social\n",
       "14                               Widgets\n",
       "15                  Electronic Signature\n",
       "16                               Storage\n",
       "17                           Advertising\n",
       "18                             Reference\n",
       "19                             Reference\n",
       "20                               Content\n",
       "21                                 Cloud\n",
       "22                                Search\n",
       "23                                Social\n",
       "24                                Photos\n",
       "25                               Library\n",
       "26                                Search\n",
       "27                       Recommendations\n",
       "28                                 Music\n",
       "29                             Analytics\n",
       "                      ...               \n",
       "15314                               Food\n",
       "15315                 Project Management\n",
       "15316                          Financial\n",
       "15317                              Other\n",
       "15318                              Video\n",
       "15319                             Photos\n",
       "15320                             Search\n",
       "15321                 Project Management\n",
       "15322                             Sports\n",
       "15323                             Travel\n",
       "15324                        Advertising\n",
       "15325                            Storage\n",
       "15326                             Social\n",
       "15327                        Advertising\n",
       "15328                             Social\n",
       "15329                              Cloud\n",
       "15330                             Events\n",
       "15331                         Government\n",
       "15332    Personal Information Management\n",
       "15333                          Standards\n",
       "15334                          Telephony\n",
       "15335                             Sports\n",
       "15336                         Enterprise\n",
       "15337                              Games\n",
       "15338                           Blogging\n",
       "15339                           Security\n",
       "15340                              Email\n",
       "15341                              Games\n",
       "15342                          Financial\n",
       "15343                            Medical\n",
       "Name: PrimaryCategory, Length: 15344, dtype: object"
      ]
     },
     "execution_count": 118,
     "metadata": {},
     "output_type": "execute_result"
    }
   ],
   "source": [
    "# equal to df.PrimaryCategory\n",
    "label = df['PrimaryCategory']\n",
    "label"
   ]
  },
  {
   "cell_type": "markdown",
   "metadata": {},
   "source": [
    "## 1. Preprocessing Null"
   ]
  },
  {
   "cell_type": "markdown",
   "metadata": {},
   "source": [
    "### Some Category is Null"
   ]
  },
  {
   "cell_type": "code",
   "execution_count": 119,
   "metadata": {},
   "outputs": [
    {
     "data": {
      "text/plain": [
       "35"
      ]
     },
     "execution_count": 119,
     "metadata": {},
     "output_type": "execute_result"
    }
   ],
   "source": [
    "label.isnull().sum()"
   ]
  },
  {
   "cell_type": "code",
   "execution_count": 120,
   "metadata": {},
   "outputs": [
    {
     "data": {
      "text/plain": [
       "93       NaN\n",
       "113      NaN\n",
       "281      NaN\n",
       "298      NaN\n",
       "587      NaN\n",
       "629      NaN\n",
       "639      NaN\n",
       "659      NaN\n",
       "982      NaN\n",
       "1307     NaN\n",
       "1359     NaN\n",
       "1371     NaN\n",
       "1387     NaN\n",
       "1920     NaN\n",
       "3140     NaN\n",
       "4066     NaN\n",
       "4666     NaN\n",
       "11668    NaN\n",
       "12240    NaN\n",
       "12465    NaN\n",
       "12750    NaN\n",
       "12813    NaN\n",
       "13378    NaN\n",
       "13423    NaN\n",
       "13544    NaN\n",
       "13819    NaN\n",
       "14100    NaN\n",
       "14637    NaN\n",
       "14659    NaN\n",
       "14682    NaN\n",
       "14687    NaN\n",
       "14852    NaN\n",
       "14876    NaN\n",
       "14887    NaN\n",
       "15267    NaN\n",
       "Name: PrimaryCategory, dtype: object"
      ]
     },
     "execution_count": 120,
     "metadata": {},
     "output_type": "execute_result"
    }
   ],
   "source": [
    "label[label.isnull()]"
   ]
  },
  {
   "cell_type": "markdown",
   "metadata": {},
   "source": [
    "### Get rid of Null Category Entry"
   ]
  },
  {
   "cell_type": "code",
   "execution_count": 121,
   "metadata": {},
   "outputs": [],
   "source": [
    "data = df.loc[label.notnull(), :]"
   ]
  },
  {
   "cell_type": "markdown",
   "metadata": {},
   "source": [
    "### Get rid of Description and Category is ''"
   ]
  },
  {
   "cell_type": "code",
   "execution_count": 122,
   "metadata": {},
   "outputs": [],
   "source": [
    "des = data.Description\n",
    "des.isnull().sum()\n",
    "data = df[df.Description != '']"
   ]
  },
  {
   "cell_type": "code",
   "execution_count": 123,
   "metadata": {},
   "outputs": [
    {
     "data": {
      "text/plain": [
       "(15340, 20)"
      ]
     },
     "execution_count": 123,
     "metadata": {},
     "output_type": "execute_result"
    }
   ],
   "source": [
    "data = data[data.PrimaryCategory != '']\n",
    "data.shape"
   ]
  },
  {
   "cell_type": "markdown",
   "metadata": {},
   "source": [
    "### Checking Second Entry"
   ]
  },
  {
   "cell_type": "code",
   "execution_count": 124,
   "metadata": {},
   "outputs": [
    {
     "data": {
      "text/plain": [
       "\"The Data API allows users to integrate their program with YouTube and allow it to perform many of the operations available on the website. It provides the capability to search for videos, retrieve standard feeds, and see related content. A program can also authenticate as a user to upload videos, modify user playlists, and more. This integration can be used for a variety of uses such as developing a web application allowing users to upload video to YouTube, or a device or desktop application that brings the YouTube experience to a new platform. The Data API gives users programmatic access to the video and user information stored on YouTube. This can be used to personalize a web site or application with the user's existing information as well as perform actions like commenting on and rating videos. This RESTful API provides responses in XML format.\""
      ]
     },
     "execution_count": 124,
     "metadata": {},
     "output_type": "execute_result"
    }
   ],
   "source": [
    "data.loc[2, 'Description']"
   ]
  },
  {
   "cell_type": "code",
   "execution_count": 125,
   "metadata": {},
   "outputs": [
    {
     "data": {
      "text/plain": [
       "'Video'"
      ]
     },
     "execution_count": 125,
     "metadata": {},
     "output_type": "execute_result"
    }
   ],
   "source": [
    "data.loc[2, 'PrimaryCategory']"
   ]
  },
  {
   "cell_type": "code",
   "execution_count": 126,
   "metadata": {},
   "outputs": [
    {
     "data": {
      "text/plain": [
       "'Google'"
      ]
     },
     "execution_count": 126,
     "metadata": {},
     "output_type": "execute_result"
    }
   ],
   "source": [
    "data.loc[2, 'APIProvider']"
   ]
  },
  {
   "cell_type": "code",
   "execution_count": 127,
   "metadata": {
    "scrolled": true
   },
   "outputs": [
    {
     "data": {
      "text/plain": [
       "0    Mapping\n",
       "1     Social\n",
       "2      Video\n",
       "3     Photos\n",
       "4     Social\n",
       "Name: PrimaryCategory, dtype: object"
      ]
     },
     "execution_count": 127,
     "metadata": {},
     "output_type": "execute_result"
    }
   ],
   "source": [
    "data.loc[:, 'PrimaryCategory'].head()"
   ]
  },
  {
   "cell_type": "markdown",
   "metadata": {},
   "source": [
    "### How many primary category in the data?"
   ]
  },
  {
   "cell_type": "code",
   "execution_count": 128,
   "metadata": {},
   "outputs": [
    {
     "data": {
      "text/plain": [
       "402"
      ]
     },
     "execution_count": 128,
     "metadata": {},
     "output_type": "execute_result"
    }
   ],
   "source": [
    "len(set(data.loc[:, 'PrimaryCategory']))"
   ]
  },
  {
   "cell_type": "markdown",
   "metadata": {},
   "source": [
    "### Final Data, Input = Description, Output = PrimaryCategroy"
   ]
  },
  {
   "cell_type": "code",
   "execution_count": 144,
   "metadata": {},
   "outputs": [],
   "source": [
    "finaldata = pd.DataFrame(data, columns=['Description', 'PrimaryCategory'])"
   ]
  },
  {
   "cell_type": "code",
   "execution_count": 167,
   "metadata": {},
   "outputs": [],
   "source": [
    "finaldata.columns = ['Service Desciption', 'Service Classification']"
   ]
  },
  {
   "cell_type": "code",
   "execution_count": 168,
   "metadata": {},
   "outputs": [
    {
     "data": {
      "text/plain": [
       "(15340, 2)"
      ]
     },
     "execution_count": 168,
     "metadata": {},
     "output_type": "execute_result"
    }
   ],
   "source": [
    "finaldata.shape"
   ]
  },
  {
   "cell_type": "code",
   "execution_count": null,
   "metadata": {},
   "outputs": [],
   "source": []
  },
  {
   "cell_type": "code",
   "execution_count": 169,
   "metadata": {},
   "outputs": [
    {
     "data": {
      "text/html": [
       "<style  type=\"text/css\" >\n",
       "    #T_ce50d126_4ea1_11e8_ae3b_0c4de9d09160 th {\n",
       "          font-size: 180%;\n",
       "          text-align: left;\n",
       "    }    #T_ce50d126_4ea1_11e8_ae3b_0c4de9d09160 td {\n",
       "          font-size: 120%;\n",
       "          text-align: left;\n",
       "    }    #T_ce50d126_4ea1_11e8_ae3b_0c4de9d09160 caption {\n",
       "          caption-side: bottom;\n",
       "          width: 600px;\n",
       "    }</style>  \n",
       "<table id=\"T_ce50d126_4ea1_11e8_ae3b_0c4de9d09160\" > \n",
       "<thead>    <tr> \n",
       "        <th class=\"blank level0\" ></th> \n",
       "        <th class=\"col_heading level0 col0\" >Service Desciption</th> \n",
       "        <th class=\"col_heading level0 col1\" >Service Classification</th> \n",
       "    </tr></thead> \n",
       "<tbody>    <tr> \n",
       "        <th id=\"T_ce50d126_4ea1_11e8_ae3b_0c4de9d09160level0_row0\" class=\"row_heading level0 row0\" >0</th> \n",
       "        <td id=\"T_ce50d126_4ea1_11e8_ae3b_0c4de9d09160row0_col0\" class=\"data row0 col0\" >Google Maps' services have been split into multiple APIs, including the Static Maps API, Street View Image API, Directions APIs, Distance Matrix API, Elevation API, Geocoding API, Geolocation API, Places API, Roads API, and Time Zone API. This page is maintained purely for historical and research purposes.] The Google Maps API allow for the embedding of Google Maps onto web pages of outside developers, using a simple JavaScript interface or a Flash interface. It is designed to work on both mobile devices as well as traditional desktop browser applications. The API includes language localization for over 50 languages, region localization and geocoding, and has mechanisms for enterprise developers who want to utilize the Google Maps API within an intranet. The API HTTP services can be accessed over a secure (HTTPS) connection by Google Maps API Premier customers.</td> \n",
       "        <td id=\"T_ce50d126_4ea1_11e8_ae3b_0c4de9d09160row0_col1\" class=\"data row0 col1\" >Mapping</td> \n",
       "    </tr>    <tr> \n",
       "        <th id=\"T_ce50d126_4ea1_11e8_ae3b_0c4de9d09160level0_row1\" class=\"row_heading level0 row1\" >1</th> \n",
       "        <td id=\"T_ce50d126_4ea1_11e8_ae3b_0c4de9d09160row1_col0\" class=\"data row1 col0\" >It has been split into multiple APIs, including the Twitter Ads API, Twitter Search Tweets API, and Twitter Direct Message API. This profile is maintained for historical, research, and reference purposes only.The Twitter micro-blogging service includes two RESTful APIs. The Twitter REST API methods allow developers to access core Twitter data. This includes update timelines, status data, and user information. The Search API methods give developers methods to interact with Twitter Search and trends data. The API presently supports the following data formats: XML, JSON, and the RSS and Atom syndication formats, with some methods only accepting a subset of these formats.</td> \n",
       "        <td id=\"T_ce50d126_4ea1_11e8_ae3b_0c4de9d09160row1_col1\" class=\"data row1 col1\" >Social</td> \n",
       "    </tr>    <tr> \n",
       "        <th id=\"T_ce50d126_4ea1_11e8_ae3b_0c4de9d09160level0_row2\" class=\"row_heading level0 row2\" >2</th> \n",
       "        <td id=\"T_ce50d126_4ea1_11e8_ae3b_0c4de9d09160row2_col0\" class=\"data row2 col0\" >The Data API allows users to integrate their program with YouTube and allow it to perform many of the operations available on the website. It provides the capability to search for videos, retrieve standard feeds, and see related content. A program can also authenticate as a user to upload videos, modify user playlists, and more. This integration can be used for a variety of uses such as developing a web application allowing users to upload video to YouTube, or a device or desktop application that brings the YouTube experience to a new platform. The Data API gives users programmatic access to the video and user information stored on YouTube. This can be used to personalize a web site or application with the user's existing information as well as perform actions like commenting on and rating videos. This RESTful API provides responses in XML format.</td> \n",
       "        <td id=\"T_ce50d126_4ea1_11e8_ae3b_0c4de9d09160row2_col1\" class=\"data row2 col1\" >Video</td> \n",
       "    </tr>    <tr> \n",
       "        <th id=\"T_ce50d126_4ea1_11e8_ae3b_0c4de9d09160level0_row3\" class=\"row_heading level0 row3\" >3</th> \n",
       "        <td id=\"T_ce50d126_4ea1_11e8_ae3b_0c4de9d09160row3_col0\" class=\"data row3 col0\" >The Flickr API can be used to retrieve photos from the Flickr photo sharing service using a variety of feedspublic photos and videos, favorites, friends, group pools, discussions, and more. The API can also be used to upload photos and video.The Flickr API supports many protocols including REST, SOAP, XML-RPC. Responses can be formatted in XML, XML-RPC, JSON and PHP. Documentation is included for 14 API Kit libraries.</td> \n",
       "        <td id=\"T_ce50d126_4ea1_11e8_ae3b_0c4de9d09160row3_col1\" class=\"data row3 col1\" >Photos</td> \n",
       "    </tr>    <tr> \n",
       "        <th id=\"T_ce50d126_4ea1_11e8_ae3b_0c4de9d09160level0_row4\" class=\"row_heading level0 row4\" >4</th> \n",
       "        <td id=\"T_ce50d126_4ea1_11e8_ae3b_0c4de9d09160row4_col0\" class=\"data row4 col0\" >Its functions have been split among the following APIs: Facebook Ads, Facebook Atlas, Facebook Graph, and Facebook Marketing. This profile is being maintained purely for historical and research purposes.] The Facebook API is a platform for building applications that are available to the members of the social network of Facebook. The API allows applications to use the social connections and profile information to make applications more involving, and to publish activities to the news feed and profile pages of Facebook, subject to individual users privacy settings. With the API, users can add social context to their applications by utilizing profile, friend, Page, group, photo, and event data. The API uses RESTful protocol and responses are in JSON format.</td> \n",
       "        <td id=\"T_ce50d126_4ea1_11e8_ae3b_0c4de9d09160row4_col1\" class=\"data row4 col1\" >Social</td> \n",
       "    </tr></tbody> \n",
       "</table> "
      ],
      "text/plain": [
       "<pandas.io.formats.style.Styler at 0x1163a87b8>"
      ]
     },
     "execution_count": 169,
     "metadata": {},
     "output_type": "execute_result"
    }
   ],
   "source": [
    "top10 = finaldata.head(5)\n",
    "#top10.style.set_properties(subset=['Service Classification'], **{'width': '400px', 'text-align': 'left'})\n",
    "#top10.style.set_properties(subset=['Service Desciption'], **{'width': '600px', 'text-align': 'left', \"font-size\": \"100%\"})\n",
    "\n",
    "\n",
    "styles = [\n",
    "    dict(selector=\"th\", props=[(\"font-size\", \"180%\"), (\"text-align\", \"left\")]),\n",
    "    dict(selector=\"td\", props=[(\"font-size\", \"120%\"), (\"text-align\", \"left\")]),\n",
    "    dict(selector=\"caption\", props=[(\"caption-side\", \"bottom\"), ('width', '600px')]),\n",
    "]\n",
    "top10.style.set_table_styles(styles)\n",
    "\n",
    "#top10.style.set_properties(subset=['Service Classification'], **{'width': '150px', 'text-align': 'left'})\n",
    "\n",
    "\n",
    "# html"
   ]
  },
  {
   "cell_type": "markdown",
   "metadata": {},
   "source": [
    "## 2. Categories Anaylsis"
   ]
  },
  {
   "cell_type": "markdown",
   "metadata": {},
   "source": [
    "### Count Number of Categories"
   ]
  },
  {
   "cell_type": "code",
   "execution_count": 170,
   "metadata": {
    "scrolled": true
   },
   "outputs": [
    {
     "data": {
      "text/plain": [
       "Tools                  767\n",
       "Financial              687\n",
       "Messaging              511\n",
       "eCommerce              466\n",
       "Payments               460\n",
       "Social                 433\n",
       "Enterprise             412\n",
       "Mapping                362\n",
       "Government             304\n",
       "Telephony              300\n",
       "Science                298\n",
       "Email                  255\n",
       "Reference              251\n",
       "Video                  251\n",
       "Search                 251\n",
       "Security               251\n",
       "Travel                 243\n",
       "Sports                 228\n",
       "Advertising            224\n",
       "Transportation         218\n",
       "Education              215\n",
       "Games                  203\n",
       "Music                  191\n",
       "Photos                 185\n",
       "Cloud                  173\n",
       "Other                  158\n",
       "Bitcoin                143\n",
       "Project Management     142\n",
       "Data                   142\n",
       "Shipping               136\n",
       "                      ... \n",
       "Copyright                1\n",
       "Gestures                 1\n",
       "Datacenter               1\n",
       "Trivia                   1\n",
       "Adoption                 1\n",
       "Housing                  1\n",
       "Canadian                 1\n",
       "Notes                    1\n",
       "OAuth                    1\n",
       "Discounts                1\n",
       "Contracts                1\n",
       "Civics                   1\n",
       "Newsletters              1\n",
       "REST                     1\n",
       "IDE                      1\n",
       "African                  1\n",
       "Subtitles                1\n",
       "European                 1\n",
       "Modules                  1\n",
       "Flowers                  1\n",
       "Availability             1\n",
       "Gadgets                  1\n",
       "Announcements            1\n",
       "Drawing                  1\n",
       "Developer Relations      1\n",
       "Viewer                   1\n",
       "iPaaS                    1\n",
       "Postcodes                1\n",
       "Summary                  1\n",
       "Sustainability           1\n",
       "Name: Service Classification, Length: 401, dtype: int64"
      ]
     },
     "execution_count": 170,
     "metadata": {},
     "output_type": "execute_result"
    }
   ],
   "source": [
    "labelcount = finaldata['Service Classification'].value_counts()\n",
    "labelcount"
   ]
  },
  {
   "cell_type": "markdown",
   "metadata": {},
   "source": [
    "### Category Number > 100"
   ]
  },
  {
   "cell_type": "code",
   "execution_count": 171,
   "metadata": {},
   "outputs": [
    {
     "data": {
      "text/plain": [
       "41"
      ]
     },
     "execution_count": 171,
     "metadata": {},
     "output_type": "execute_result"
    }
   ],
   "source": [
    "labelcount[labelcount > 100].count()"
   ]
  },
  {
   "cell_type": "markdown",
   "metadata": {},
   "source": [
    "### Category Number > 200"
   ]
  },
  {
   "cell_type": "code",
   "execution_count": 172,
   "metadata": {},
   "outputs": [
    {
     "data": {
      "text/plain": [
       "22"
      ]
     },
     "execution_count": 172,
     "metadata": {},
     "output_type": "execute_result"
    }
   ],
   "source": [
    "labelcount[labelcount > 200].count()"
   ]
  },
  {
   "cell_type": "code",
   "execution_count": 173,
   "metadata": {},
   "outputs": [
    {
     "data": {
      "text/plain": [
       "Tools         767\n",
       "Financial     687\n",
       "Messaging     511\n",
       "eCommerce     466\n",
       "Payments      460\n",
       "Social        433\n",
       "Enterprise    412\n",
       "Mapping       362\n",
       "Government    304\n",
       "Telephony     300\n",
       "Name: Service Classification, dtype: int64"
      ]
     },
     "execution_count": 173,
     "metadata": {},
     "output_type": "execute_result"
    }
   ],
   "source": [
    "labelcount[0:10]"
   ]
  },
  {
   "cell_type": "code",
   "execution_count": 174,
   "metadata": {},
   "outputs": [
    {
     "data": {
      "text/plain": [
       "Tools             767\n",
       "Financial         687\n",
       "Messaging         511\n",
       "eCommerce         466\n",
       "Payments          460\n",
       "Social            433\n",
       "Enterprise        412\n",
       "Mapping           362\n",
       "Government        304\n",
       "Telephony         300\n",
       "Science           298\n",
       "Email             255\n",
       "Reference         251\n",
       "Video             251\n",
       "Search            251\n",
       "Security          251\n",
       "Travel            243\n",
       "Sports            228\n",
       "Advertising       224\n",
       "Transportation    218\n",
       "Name: Service Classification, dtype: int64"
      ]
     },
     "execution_count": 174,
     "metadata": {},
     "output_type": "execute_result"
    }
   ],
   "source": [
    "labelcount[0:20]"
   ]
  },
  {
   "cell_type": "code",
   "execution_count": 175,
   "metadata": {},
   "outputs": [
    {
     "data": {
      "text/plain": [
       "Tools                 767\n",
       "Financial             687\n",
       "Messaging             511\n",
       "eCommerce             466\n",
       "Payments              460\n",
       "Social                433\n",
       "Enterprise            412\n",
       "Mapping               362\n",
       "Government            304\n",
       "Telephony             300\n",
       "Science               298\n",
       "Email                 255\n",
       "Reference             251\n",
       "Video                 251\n",
       "Search                251\n",
       "Security              251\n",
       "Travel                243\n",
       "Sports                228\n",
       "Advertising           224\n",
       "Transportation        218\n",
       "Education             215\n",
       "Games                 203\n",
       "Music                 191\n",
       "Photos                185\n",
       "Cloud                 173\n",
       "Other                 158\n",
       "Bitcoin               143\n",
       "Project Management    142\n",
       "Data                  142\n",
       "Shipping              136\n",
       "Name: Service Classification, dtype: int64"
      ]
     },
     "execution_count": 175,
     "metadata": {},
     "output_type": "execute_result"
    }
   ],
   "source": [
    "labelcount[0:30]"
   ]
  },
  {
   "cell_type": "code",
   "execution_count": 176,
   "metadata": {},
   "outputs": [
    {
     "data": {
      "text/plain": [
       "Tools                      767\n",
       "Financial                  687\n",
       "Messaging                  511\n",
       "eCommerce                  466\n",
       "Payments                   460\n",
       "Social                     433\n",
       "Enterprise                 412\n",
       "Mapping                    362\n",
       "Government                 304\n",
       "Telephony                  300\n",
       "Science                    298\n",
       "Email                      255\n",
       "Reference                  251\n",
       "Video                      251\n",
       "Search                     251\n",
       "Security                   251\n",
       "Travel                     243\n",
       "Sports                     228\n",
       "Advertising                224\n",
       "Transportation             218\n",
       "Education                  215\n",
       "Games                      203\n",
       "Music                      191\n",
       "Photos                     185\n",
       "Cloud                      173\n",
       "Other                      158\n",
       "Bitcoin                    143\n",
       "Project Management         142\n",
       "Data                       142\n",
       "Shipping                   136\n",
       "Database                   136\n",
       "Backend                    134\n",
       "Stocks                     133\n",
       "Weather                    132\n",
       "Application Development    123\n",
       "Analytics                  115\n",
       "Internet of Things         113\n",
       "Banking                    111\n",
       "Medical                    110\n",
       "Real Estate                108\n",
       "Name: Service Classification, dtype: int64"
      ]
     },
     "execution_count": 176,
     "metadata": {},
     "output_type": "execute_result"
    }
   ],
   "source": [
    "labelcount[0:40]"
   ]
  },
  {
   "cell_type": "code",
   "execution_count": 177,
   "metadata": {},
   "outputs": [
    {
     "data": {
      "text/plain": [
       "Tools                      767\n",
       "Financial                  687\n",
       "Messaging                  511\n",
       "eCommerce                  466\n",
       "Payments                   460\n",
       "Social                     433\n",
       "Enterprise                 412\n",
       "Mapping                    362\n",
       "Government                 304\n",
       "Telephony                  300\n",
       "Science                    298\n",
       "Email                      255\n",
       "Reference                  251\n",
       "Video                      251\n",
       "Search                     251\n",
       "Security                   251\n",
       "Travel                     243\n",
       "Sports                     228\n",
       "Advertising                224\n",
       "Transportation             218\n",
       "Education                  215\n",
       "Games                      203\n",
       "Music                      191\n",
       "Photos                     185\n",
       "Cloud                      173\n",
       "Other                      158\n",
       "Bitcoin                    143\n",
       "Project Management         142\n",
       "Data                       142\n",
       "Shipping                   136\n",
       "Database                   136\n",
       "Backend                    134\n",
       "Stocks                     133\n",
       "Weather                    132\n",
       "Application Development    123\n",
       "Analytics                  115\n",
       "Internet of Things         113\n",
       "Banking                    111\n",
       "Medical                    110\n",
       "Real Estate                108\n",
       "Events                     108\n",
       "Storage                     99\n",
       "Entertainment               95\n",
       "File Sharing                86\n",
       "Domains                     84\n",
       "Images                      83\n",
       "Chat                        82\n",
       "News Services               82\n",
       "Media                       82\n",
       "Marketing                   81\n",
       "Name: Service Classification, dtype: int64"
      ]
     },
     "execution_count": 177,
     "metadata": {},
     "output_type": "execute_result"
    }
   ],
   "source": [
    "labelcount[0:50]"
   ]
  },
  {
   "cell_type": "code",
   "execution_count": 178,
   "metadata": {
    "scrolled": true
   },
   "outputs": [
    {
     "data": {
      "text/plain": [
       "Tools                               767\n",
       "Financial                           687\n",
       "Messaging                           511\n",
       "eCommerce                           466\n",
       "Payments                            460\n",
       "Social                              433\n",
       "Enterprise                          412\n",
       "Mapping                             362\n",
       "Government                          304\n",
       "Telephony                           300\n",
       "Science                             298\n",
       "Email                               255\n",
       "Reference                           251\n",
       "Video                               251\n",
       "Search                              251\n",
       "Security                            251\n",
       "Travel                              243\n",
       "Sports                              228\n",
       "Advertising                         224\n",
       "Transportation                      218\n",
       "Education                           215\n",
       "Games                               203\n",
       "Music                               191\n",
       "Photos                              185\n",
       "Cloud                               173\n",
       "Other                               158\n",
       "Bitcoin                             143\n",
       "Project Management                  142\n",
       "Data                                142\n",
       "Shipping                            136\n",
       "                                   ... \n",
       "Content Management                   43\n",
       "Customer Relationship Management     43\n",
       "Air Travel                           42\n",
       "Sentiment                            42\n",
       "Translation                          42\n",
       "Content                              42\n",
       "Bots                                 41\n",
       "Machine Learning                     39\n",
       "Voice                                39\n",
       "Artificial Intelligence              39\n",
       "Platform-as-a-Service                37\n",
       "Authentication                       35\n",
       "SEO                                  34\n",
       "Human Resources                      33\n",
       "Collaboration                        33\n",
       "Agriculture                          32\n",
       "Personal Information Management      32\n",
       "Library                              31\n",
       "Applications                         31\n",
       "Documents                            31\n",
       "Printing                             30\n",
       "Astronomy                            30\n",
       "Big Data                             30\n",
       "Data-as-a-Service                    30\n",
       "Conversions                          30\n",
       "Addresses                            30\n",
       "Sales                                29\n",
       "Browsers                             29\n",
       "Notifications                        29\n",
       "Gambling                             28\n",
       "Name: Service Classification, Length: 100, dtype: int64"
      ]
     },
     "execution_count": 178,
     "metadata": {},
     "output_type": "execute_result"
    }
   ],
   "source": [
    "labelcount[0:100]"
   ]
  },
  {
   "cell_type": "markdown",
   "metadata": {},
   "source": [
    "### Half of categories less than 10"
   ]
  },
  {
   "cell_type": "code",
   "execution_count": 179,
   "metadata": {},
   "outputs": [
    {
     "data": {
      "text/plain": [
       "217"
      ]
     },
     "execution_count": 179,
     "metadata": {},
     "output_type": "execute_result"
    }
   ],
   "source": [
    "labelcount[labelcount < 10].count()"
   ]
  },
  {
   "cell_type": "code",
   "execution_count": 180,
   "metadata": {},
   "outputs": [
    {
     "data": {
      "text/plain": [
       "41"
      ]
     },
     "execution_count": 180,
     "metadata": {},
     "output_type": "execute_result"
    }
   ],
   "source": [
    "labelcount[labelcount > 100].count()"
   ]
  },
  {
   "cell_type": "code",
   "execution_count": 181,
   "metadata": {},
   "outputs": [
    {
     "data": {
      "text/plain": [
       "Flowers                1\n",
       "Availability           1\n",
       "Gadgets                1\n",
       "Announcements          1\n",
       "Drawing                1\n",
       "Developer Relations    1\n",
       "Viewer                 1\n",
       "iPaaS                  1\n",
       "Postcodes              1\n",
       "Summary                1\n",
       "Sustainability         1\n",
       "Name: Service Classification, dtype: int64"
      ]
     },
     "execution_count": 181,
     "metadata": {},
     "output_type": "execute_result"
    }
   ],
   "source": [
    "labelcount[390:401]"
   ]
  },
  {
   "cell_type": "code",
   "execution_count": 234,
   "metadata": {},
   "outputs": [
    {
     "data": {
      "text/plain": [
       "728.8329177057357"
      ]
     },
     "execution_count": 234,
     "metadata": {},
     "output_type": "execute_result"
    }
   ],
   "source": [
    "maxcount = labelcount[0]\n",
    "np.mean(abs(maxcount - labelcount))"
   ]
  },
  {
   "cell_type": "code",
   "execution_count": 201,
   "metadata": {},
   "outputs": [
    {
     "data": {
      "text/plain": [
       "(-106.4152107524034, 182.749375340932)"
      ]
     },
     "execution_count": 201,
     "metadata": {},
     "output_type": "execute_result"
    }
   ],
   "source": [
    "interval = stats.norm.interval(0.9, np.mean(labelcount), np.std(labelcount)) \n",
    "interval"
   ]
  },
  {
   "cell_type": "markdown",
   "metadata": {},
   "source": [
    "### Histogram"
   ]
  },
  {
   "cell_type": "code",
   "execution_count": 202,
   "metadata": {},
   "outputs": [
    {
     "data": {
      "image/png": "[encoded data removed]",
      "text/plain": [
       "<matplotlib.figure.Figure at 0x121b43c88>"
      ]
     },
     "metadata": {},
     "output_type": "display_data"
    }
   ],
   "source": [
    "plt.figure(figsize=(70, 10))\n",
    "labelcount.plot(kind='bar')\n",
    "plt.savefig('histogramAll.pdf', format='pdf', dpi=300)"
   ]
  },
  {
   "cell_type": "markdown",
   "metadata": {},
   "source": [
    "### Get TOP 50 categories dataset"
   ]
  },
  {
   "cell_type": "code",
   "execution_count": 203,
   "metadata": {},
   "outputs": [],
   "source": [
    "top50 = labelcount[0:50]"
   ]
  },
  {
   "cell_type": "code",
   "execution_count": 204,
   "metadata": {},
   "outputs": [],
   "source": [
    "top50list = list(top50.index)\n",
    "top50index = finaldata['Service Classification'].isin(top50list)"
   ]
  },
  {
   "cell_type": "code",
   "execution_count": 205,
   "metadata": {},
   "outputs": [
    {
     "data": {
      "text/plain": [
       "(10957, 2)"
      ]
     },
     "execution_count": 205,
     "metadata": {},
     "output_type": "execute_result"
    }
   ],
   "source": [
    "top50data = finaldata.loc[top50index]\n",
    "top50data.shape"
   ]
  },
  {
   "cell_type": "code",
   "execution_count": 206,
   "metadata": {
    "scrolled": true
   },
   "outputs": [
    {
     "data": {
      "text/plain": [
       "767"
      ]
     },
     "execution_count": 206,
     "metadata": {},
     "output_type": "execute_result"
    }
   ],
   "source": [
    "top50labelcount = top50data['Service Classification'].value_counts()\n",
    "top50labelcount[0]"
   ]
  },
  {
   "cell_type": "code",
   "execution_count": 207,
   "metadata": {},
   "outputs": [
    {
     "data": {
      "text/plain": [
       "547.86"
      ]
     },
     "execution_count": 207,
     "metadata": {},
     "output_type": "execute_result"
    }
   ],
   "source": [
    "maxcount = top50labelcount[0]\n",
    "np.mean(abs(maxcount - top50labelcount))"
   ]
  },
  {
   "cell_type": "code",
   "execution_count": 208,
   "metadata": {},
   "outputs": [],
   "source": [
    "#merge index and values\n",
    "\n",
    "#top50labelcount.values\n",
    "#top50labelcount.index\n",
    "#top50countpd = pd.DataFrame({'categories': top50labelcount.index, 'count': top50labelcount.values})"
   ]
  },
  {
   "cell_type": "code",
   "execution_count": 209,
   "metadata": {},
   "outputs": [],
   "source": [
    "#a = top50labelcount.hist()"
   ]
  },
  {
   "cell_type": "code",
   "execution_count": 210,
   "metadata": {},
   "outputs": [
    {
     "data": {
      "image/png": "[encoded data removed]",
      "text/plain": [
       "<matplotlib.figure.Figure at 0x121bef9b0>"
      ]
     },
     "metadata": {},
     "output_type": "display_data"
    }
   ],
   "source": [
    "plt.figure(figsize=(25, 15))\n",
    "top50labelcount.plot(kind='bar')\n",
    "plt.savefig('histogramTop50.pdf', format='pdf', dpi=300)"
   ]
  },
  {
   "cell_type": "markdown",
   "metadata": {},
   "source": [
    "## 3. Service Description to Vector"
   ]
  },
  {
   "cell_type": "code",
   "execution_count": 211,
   "metadata": {},
   "outputs": [],
   "source": [
    "from keras.preprocessing.text import Tokenizer\n",
    "from keras.preprocessing.text import hashing_trick\n",
    "from keras.preprocessing.sequence import pad_sequences\n",
    "from keras.preprocessing.text import one_hot\n",
    "import numpy as np\n",
    "from math import *\n",
    "from scipy import stats"
   ]
  },
  {
   "cell_type": "markdown",
   "metadata": {},
   "source": [
    "### Max Length of the Description"
   ]
  },
  {
   "cell_type": "code",
   "execution_count": 213,
   "metadata": {},
   "outputs": [
    {
     "data": {
      "text/html": [
       "<div>\n",
       "<style>\n",
       "    .dataframe thead tr:only-child th {\n",
       "        text-align: right;\n",
       "    }\n",
       "\n",
       "    .dataframe thead th {\n",
       "        text-align: left;\n",
       "    }\n",
       "\n",
       "    .dataframe tbody tr th {\n",
       "        vertical-align: top;\n",
       "    }\n",
       "</style>\n",
       "<table border=\"1\" class=\"dataframe\">\n",
       "  <thead>\n",
       "    <tr style=\"text-align: right;\">\n",
       "      <th></th>\n",
       "      <th>Service Desciption</th>\n",
       "      <th>Service Classification</th>\n",
       "    </tr>\n",
       "  </thead>\n",
       "  <tbody>\n",
       "    <tr>\n",
       "      <th>11856</th>\n",
       "      <td>GroupDocs is an online document management pla...</td>\n",
       "      <td>File Sharing</td>\n",
       "    </tr>\n",
       "  </tbody>\n",
       "</table>\n",
       "</div>"
      ],
      "text/plain": [
       "                                      Service Desciption  \\\n",
       "11856  GroupDocs is an online document management pla...   \n",
       "\n",
       "      Service Classification  \n",
       "11856           File Sharing  "
      ]
     },
     "execution_count": 213,
     "metadata": {},
     "output_type": "execute_result"
    }
   ],
   "source": [
    "top50data[top50data['Service Desciption'] == max(top50data['Service Desciption'], key=len)]"
   ]
  },
  {
   "cell_type": "code",
   "execution_count": 215,
   "metadata": {},
   "outputs": [
    {
     "data": {
      "text/plain": [
       "'GroupDocs is an online document management platform. GroupDocs allows users and organizations to manage and revise documents, create digital signatures, collaborate on documents, and search for all documents within groups. Various annotation options such as highlighting, underlining, striking out text as well as leaving comments on the text/images are included to make the proof-reading process easier for users. GroupDocs Annotation API for Kentico provides developers with a set of annotation tools, such as Text annotation, Area annotation, Point annotation, Polyline annotation and Strike-out text. Functionality of the Annotation API such as Text or image annotation, collaboration or exporting documents, allows developers to have the ultimate document management experience. Users can upload any PDF file and share this document with their colleagues through GroupDocs Annotation App. Any review comment incorporated will be saved and users can export the annotated PDF document with all the comments and annotations in place. All these notes and comments become part of the new exported file and can be viewed in any popular PDF reader. Email addresses of the reviewers are also highlighted so that developers can keep track of the comments from different reviewers at the same time. The Kentico Annotation API lets users annotate documents in real-time as well as collect review comments individually. Users have th option to collaborate with colleagues to share ideas via comments and see reviews in real-time. GroupDocs Annotation API for Kentico provides developers with a marker counter on the sidebar to easily navigate through all the comments. Familiar editing tools such as highlight text, insert a shape, strike out text as well as draw freehand directly on the document are available. GroupDocs Annotation API for Kentico enables users to annotate images, pictures and graphics as easily as text. Users can invite collaborators to review and add comments in the document simultaneously. Users can also keep an offline as well as hard-copy of the annotated PDF document for future reference. Interested developers can refer to the documentation for the RESTful API available online.'"
      ]
     },
     "execution_count": 215,
     "metadata": {},
     "output_type": "execute_result"
    }
   ],
   "source": [
    "max(top50data['Service Desciption'], key=len)"
   ]
  },
  {
   "cell_type": "code",
   "execution_count": 217,
   "metadata": {},
   "outputs": [
    {
     "data": {
      "text/plain": [
       "334"
      ]
     },
     "execution_count": 217,
     "metadata": {},
     "output_type": "execute_result"
    }
   ],
   "source": [
    "len(max(top50data['Service Desciption'], key=len).split())"
   ]
  },
  {
   "cell_type": "markdown",
   "metadata": {},
   "source": [
    "### Min Length of the Description"
   ]
  },
  {
   "cell_type": "code",
   "execution_count": 218,
   "metadata": {},
   "outputs": [
    {
     "data": {
      "text/html": [
       "<div>\n",
       "<style>\n",
       "    .dataframe thead tr:only-child th {\n",
       "        text-align: right;\n",
       "    }\n",
       "\n",
       "    .dataframe thead th {\n",
       "        text-align: left;\n",
       "    }\n",
       "\n",
       "    .dataframe tbody tr th {\n",
       "        vertical-align: top;\n",
       "    }\n",
       "</style>\n",
       "<table border=\"1\" class=\"dataframe\">\n",
       "  <thead>\n",
       "    <tr style=\"text-align: right;\">\n",
       "      <th></th>\n",
       "      <th>Service Desciption</th>\n",
       "      <th>Service Classification</th>\n",
       "    </tr>\n",
       "  </thead>\n",
       "  <tbody>\n",
       "    <tr>\n",
       "      <th>14766</th>\n",
       "      <td>Czech mapping API.</td>\n",
       "      <td>Mapping</td>\n",
       "    </tr>\n",
       "  </tbody>\n",
       "</table>\n",
       "</div>"
      ],
      "text/plain": [
       "       Service Desciption  \\\n",
       "14766  Czech mapping API.   \n",
       "\n",
       "      Service Classification  \n",
       "14766                Mapping  "
      ]
     },
     "execution_count": 218,
     "metadata": {},
     "output_type": "execute_result"
    }
   ],
   "source": [
    "top50data[top50data['Service Desciption'] == min(top50data['Service Desciption'], key=len)]"
   ]
  },
  {
   "cell_type": "code",
   "execution_count": 220,
   "metadata": {
    "scrolled": true
   },
   "outputs": [
    {
     "data": {
      "text/plain": [
       "'Czech mapping API.'"
      ]
     },
     "execution_count": 220,
     "metadata": {},
     "output_type": "execute_result"
    }
   ],
   "source": [
    "min(top50data['Service Desciption'], key=len)"
   ]
  },
  {
   "cell_type": "code",
   "execution_count": 223,
   "metadata": {},
   "outputs": [
    {
     "data": {
      "text/plain": [
       "3"
      ]
     },
     "execution_count": 223,
     "metadata": {},
     "output_type": "execute_result"
    }
   ],
   "source": [
    "len(min(top50data['Service Desciption'], key=len).split())"
   ]
  },
  {
   "cell_type": "code",
   "execution_count": 224,
   "metadata": {},
   "outputs": [],
   "source": [
    "f = lambda x : len(x.split())\n",
    "lens = top50data['Service Desciption'].apply(f)"
   ]
  },
  {
   "cell_type": "code",
   "execution_count": 225,
   "metadata": {},
   "outputs": [
    {
     "data": {
      "text/plain": [
       "67.32107328648353"
      ]
     },
     "execution_count": 225,
     "metadata": {},
     "output_type": "execute_result"
    }
   ],
   "source": [
    "mu = np.mean(lens)\n",
    "mu"
   ]
  },
  {
   "cell_type": "code",
   "execution_count": 226,
   "metadata": {},
   "outputs": [
    {
     "data": {
      "text/plain": [
       "25.98412272809889"
      ]
     },
     "execution_count": 226,
     "metadata": {},
     "output_type": "execute_result"
    }
   ],
   "source": [
    "sigma = np.std(lens)\n",
    "sigma"
   ]
  },
  {
   "cell_type": "code",
   "execution_count": 227,
   "metadata": {},
   "outputs": [
    {
     "data": {
      "text/plain": [
       "(24.580994774017867, 110.06115179894917)"
      ]
     },
     "execution_count": 227,
     "metadata": {},
     "output_type": "execute_result"
    }
   ],
   "source": [
    "interval = stats.norm.interval(0.9, mu, sigma) \n",
    "interval"
   ]
  },
  {
   "cell_type": "code",
   "execution_count": 228,
   "metadata": {},
   "outputs": [
    {
     "data": {
      "text/plain": [
       "373"
      ]
     },
     "execution_count": 228,
     "metadata": {},
     "output_type": "execute_result"
    }
   ],
   "source": [
    "np.max(lens)"
   ]
  },
  {
   "cell_type": "code",
   "execution_count": 229,
   "metadata": {},
   "outputs": [
    {
     "data": {
      "image/png": "[encoded data removed]",
      "text/plain": [
       "<matplotlib.figure.Figure at 0x1225502e8>"
      ]
     },
     "metadata": {},
     "output_type": "display_data"
    }
   ],
   "source": [
    "#data = np.random.normal(mu,sigma,1000) \n",
    " \n",
    "#x = np.linspace(0, 700, 1000)\n",
    "#y = (1. / sqrt(2 * np.pi) / sigma)*np.exp( -((x-mu)**2/(2*sigma**2)) )\n",
    " \n",
    "#plt.hist(data,bins=100,facecolor='g',alpha=0.44)\n",
    "plt.hist(lens, bins=500, facecolor='r',histtype='stepfilled')\n",
    "#plt.plot(x,y,color='b')   \n",
    " \n",
    "plt.xlabel('Length')\n",
    "plt.ylabel('Number of Length')\n",
    "plt.title('Length Distribution of Service Description')\n",
    "plt.savefig('histogramDescription.pdf', format='pdf', dpi=300)"
   ]
  },
  {
   "cell_type": "code",
   "execution_count": 230,
   "metadata": {},
   "outputs": [],
   "source": [
    "finaltop50data = top50data[(lens >= interval[0]) & (lens <= interval[1])]"
   ]
  },
  {
   "cell_type": "code",
   "execution_count": 231,
   "metadata": {},
   "outputs": [
    {
     "data": {
      "text/plain": [
       "(10184, 2)"
      ]
     },
     "execution_count": 231,
     "metadata": {},
     "output_type": "execute_result"
    }
   ],
   "source": [
    "finaltop50data.shape"
   ]
  },
  {
   "cell_type": "markdown",
   "metadata": {},
   "source": [
    "## 4. Save as csv and h5 file (pd to h5)"
   ]
  },
  {
   "cell_type": "code",
   "execution_count": 232,
   "metadata": {},
   "outputs": [],
   "source": [
    "finaltop50data.to_csv('service.csv', encoding='utf-8', index=False, header=False)"
   ]
  },
  {
   "cell_type": "code",
   "execution_count": 233,
   "metadata": {},
   "outputs": [],
   "source": [
    "finaltop50data.head().to_csv('service-head.csv', encoding='utf-8', index=False, header=False)"
   ]
  },
  {
   "cell_type": "code",
   "execution_count": 245,
   "metadata": {},
   "outputs": [],
   "source": [
    "h5f = HDFStore('../data/service.h5')\n",
    "h5f.put('top50service', finaltop50data)\n",
    "h5f.close()"
   ]
  }
 ],
 "metadata": {
  "kernelspec": {
   "display_name": "Python 3",
   "language": "python",
   "name": "python3"
  },
  "language_info": {
   "codemirror_mode": {
    "name": "ipython",
    "version": 3
   },
   "file_extension": ".py",
   "mimetype": "text/x-python",
   "name": "python",
   "nbconvert_exporter": "python",
   "pygments_lexer": "ipython3",
   "version": "3.5.2"
  }
 },
 "nbformat": 4,
 "nbformat_minor": 2
}
