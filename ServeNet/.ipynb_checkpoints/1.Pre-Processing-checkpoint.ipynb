{
 "cells": [
  {
   "cell_type": "code",
   "execution_count": 1,
   "metadata": {},
   "outputs": [],
   "source": [
    "import json\n",
    "import numpy as np\n",
    "import h5py\n",
    "import pandas as pd\n",
    "import matplotlib.pyplot as plt\n",
    "from scipy import stats\n",
    "from pandas.io.json import json_normalize\n",
    "from pandas import HDFStore, read_hdf\n",
    "\n",
    "%matplotlib inline "
   ]
  },
  {
   "cell_type": "markdown",
   "metadata": {},
   "source": [
    "## 1. Load from Text"
   ]
  },
  {
   "cell_type": "code",
   "execution_count": 2,
   "metadata": {
    "scrolled": true
   },
   "outputs": [],
   "source": [
    "with open('../Data/ProgrammWebScrapy.txt', encoding='utf-8') as data_file:\n",
    "    f = data_file.read()\n",
    "    data = json.loads(f, strict=False)"
   ]
  },
  {
   "cell_type": "code",
   "execution_count": 3,
   "metadata": {},
   "outputs": [],
   "source": [
    "df = pd.DataFrame.from_dict(json_normalize(data), orient='columns')"
   ]
  },
  {
   "cell_type": "code",
   "execution_count": 4,
   "metadata": {
    "scrolled": false
   },
   "outputs": [
    {
     "data": {
      "text/html": [
       "<div>\n",
       "<style scoped>\n",
       "    .dataframe tbody tr th:only-of-type {\n",
       "        vertical-align: middle;\n",
       "    }\n",
       "\n",
       "    .dataframe tbody tr th {\n",
       "        vertical-align: top;\n",
       "    }\n",
       "\n",
       "    .dataframe thead th {\n",
       "        text-align: right;\n",
       "    }\n",
       "</style>\n",
       "<table border=\"1\" class=\"dataframe\">\n",
       "  <thead>\n",
       "    <tr style=\"text-align: right;\">\n",
       "      <th></th>\n",
       "      <th>APIEndpoint</th>\n",
       "      <th>APIForumMessageBoards</th>\n",
       "      <th>APIPortalHomePage</th>\n",
       "      <th>APIProvider</th>\n",
       "      <th>ArchitecturalStyle</th>\n",
       "      <th>AuthenticationModel</th>\n",
       "      <th>Description</th>\n",
       "      <th>DeviceSpecific</th>\n",
       "      <th>DocsHomePageUR</th>\n",
       "      <th>IsThisanUnofficialAPI</th>\n",
       "      <th>IstheAPIDesign</th>\n",
       "      <th>PrimaryCategory</th>\n",
       "      <th>RestrictedAccess</th>\n",
       "      <th>SSLSupport</th>\n",
       "      <th>Scope</th>\n",
       "      <th>SecondaryCategories</th>\n",
       "      <th>SupportEmailAddress</th>\n",
       "      <th>SupportedRequestFormats</th>\n",
       "      <th>SupportedResponseFormats</th>\n",
       "      <th>Title</th>\n",
       "    </tr>\n",
       "  </thead>\n",
       "  <tbody>\n",
       "    <tr>\n",
       "      <th>1</th>\n",
       "      <td>http://twitter.com/statuses/</td>\n",
       "      <td>http://groups.google.com/group/twitter-develop...</td>\n",
       "      <td>https://dev.twitter.com/rest/public</td>\n",
       "      <td>Twitter</td>\n",
       "      <td>REST</td>\n",
       "      <td>OAuth 2</td>\n",
       "      <td>It has been split into multiple APIs, includin...</td>\n",
       "      <td>No</td>\n",
       "      <td>https://dev.twitter.com/rest/public</td>\n",
       "      <td>No</td>\n",
       "      <td>Yes</td>\n",
       "      <td>Social</td>\n",
       "      <td>No</td>\n",
       "      <td>No</td>\n",
       "      <td>Single purpose API</td>\n",
       "      <td>Blogging</td>\n",
       "      <td>api@twitter.com</td>\n",
       "      <td>URI Query String/CRUD</td>\n",
       "      <td>Atom, JSON, RSS, XML</td>\n",
       "      <td>Twitter API</td>\n",
       "    </tr>\n",
       "    <tr>\n",
       "      <th>2</th>\n",
       "      <td>https://www.youtube.com/iframe_api</td>\n",
       "      <td>http://groups.google.com/group/youtube-api/</td>\n",
       "      <td>https://developers.google.com/youtube/</td>\n",
       "      <td>Google</td>\n",
       "      <td>REST</td>\n",
       "      <td>API Key</td>\n",
       "      <td>The Data API allows users to integrate their p...</td>\n",
       "      <td>No</td>\n",
       "      <td>https://developers.google.com/youtube/</td>\n",
       "      <td>No</td>\n",
       "      <td>No</td>\n",
       "      <td>Video</td>\n",
       "      <td>No</td>\n",
       "      <td>No</td>\n",
       "      <td>Single purpose API</td>\n",
       "      <td>Media</td>\n",
       "      <td>NaN</td>\n",
       "      <td>Atom, GData, RSS, URI Query String/CRUD, Atom ...</td>\n",
       "      <td>XML, JSON, GData, Atom, RSS</td>\n",
       "      <td>YouTube API</td>\n",
       "    </tr>\n",
       "    <tr>\n",
       "      <th>3</th>\n",
       "      <td>http://api.flickr.com/services/</td>\n",
       "      <td>http://www.flickr.com/groups/api</td>\n",
       "      <td>http://www.flickr.com/services/api/</td>\n",
       "      <td>Flickr</td>\n",
       "      <td>REST</td>\n",
       "      <td>OAuth 1</td>\n",
       "      <td>The Flickr API can be used to retrieve photos ...</td>\n",
       "      <td>No</td>\n",
       "      <td>http://www.flickr.com/services/api/</td>\n",
       "      <td>No</td>\n",
       "      <td>No</td>\n",
       "      <td>Photos</td>\n",
       "      <td>No</td>\n",
       "      <td>Yes</td>\n",
       "      <td>Single purpose API</td>\n",
       "      <td>Video</td>\n",
       "      <td>NaN</td>\n",
       "      <td>URI Query String/CRUD, XML, PHP, XML-RPC</td>\n",
       "      <td>JSON, XML, PHP, XML-RPC</td>\n",
       "      <td>Flickr API</td>\n",
       "    </tr>\n",
       "    <tr>\n",
       "      <th>4</th>\n",
       "      <td>http://api.facebook.com/restserver.php</td>\n",
       "      <td>http://forum.developers.facebook.com/</td>\n",
       "      <td>https://developers.facebook.com/</td>\n",
       "      <td>Facebook</td>\n",
       "      <td>REST</td>\n",
       "      <td>API Key, OAuth 2</td>\n",
       "      <td>Its functions have been split among the follow...</td>\n",
       "      <td>No</td>\n",
       "      <td>https://developers.facebook.com/</td>\n",
       "      <td>No</td>\n",
       "      <td>No</td>\n",
       "      <td>Social</td>\n",
       "      <td>No</td>\n",
       "      <td>Yes</td>\n",
       "      <td>Single purpose API</td>\n",
       "      <td>Webhooks</td>\n",
       "      <td>NaN</td>\n",
       "      <td>URI Query String/CRUD</td>\n",
       "      <td>JSON</td>\n",
       "      <td>Facebook API</td>\n",
       "    </tr>\n",
       "    <tr>\n",
       "      <th>5</th>\n",
       "      <td>http://webservices.amazon.com/</td>\n",
       "      <td>http://developer.amazonwebservices.com/connect...</td>\n",
       "      <td>https://affiliate-program.amazon.com/gp/advert...</td>\n",
       "      <td>Amazon</td>\n",
       "      <td>REST</td>\n",
       "      <td>API Key</td>\n",
       "      <td>What was formerly the ECSeCommerce Servicehas ...</td>\n",
       "      <td>No</td>\n",
       "      <td>https://docs.aws.amazon.com/AWSECommerceServic...</td>\n",
       "      <td>No</td>\n",
       "      <td>Yes</td>\n",
       "      <td>eCommerce</td>\n",
       "      <td>Yes</td>\n",
       "      <td>No</td>\n",
       "      <td>Single purpose API</td>\n",
       "      <td>Advertising</td>\n",
       "      <td>NaN</td>\n",
       "      <td>SOAP, XML</td>\n",
       "      <td>SOAP, XML</td>\n",
       "      <td>Amazon Product Advertising API</td>\n",
       "    </tr>\n",
       "    <tr>\n",
       "      <th>6</th>\n",
       "      <td>https://api.twilio.com/2010-04-01</td>\n",
       "      <td>https://www.twilio.com/blog</td>\n",
       "      <td>http://www.twilio.com</td>\n",
       "      <td>Twilio</td>\n",
       "      <td>REST</td>\n",
       "      <td>API Key, HTTP Basic Auth</td>\n",
       "      <td>Twilio provides a simple hosted API and markup...</td>\n",
       "      <td>No</td>\n",
       "      <td>https://www.twilio.com/docs/api/rest</td>\n",
       "      <td>No</td>\n",
       "      <td>No</td>\n",
       "      <td>Telephony</td>\n",
       "      <td>No</td>\n",
       "      <td>Yes</td>\n",
       "      <td>Single purpose API</td>\n",
       "      <td>Cloud, Text-to-Speech, Voice, Webhooks</td>\n",
       "      <td>help@twilio.com</td>\n",
       "      <td>URI Query String/CRUD</td>\n",
       "      <td>CSV, HTML, JSON, XML</td>\n",
       "      <td>Twilio API</td>\n",
       "    </tr>\n",
       "    <tr>\n",
       "      <th>7</th>\n",
       "      <td>http://ws.audioscrobbler.com/2.0/</td>\n",
       "      <td>http://www.last.fm/group/Last.fm+Web+Services/...</td>\n",
       "      <td>http://www.last.fm/api</td>\n",
       "      <td>Last.fm</td>\n",
       "      <td>REST</td>\n",
       "      <td>API Key, Shared Secret, Token</td>\n",
       "      <td>The Last.fm API gives users the ability to bui...</td>\n",
       "      <td>No</td>\n",
       "      <td>http://www.last.fm/api</td>\n",
       "      <td>No</td>\n",
       "      <td>Yes</td>\n",
       "      <td>Music</td>\n",
       "      <td>No</td>\n",
       "      <td>No</td>\n",
       "      <td>Single purpose API</td>\n",
       "      <td>NaN</td>\n",
       "      <td>office@last.fm</td>\n",
       "      <td>URI Query String/CRUD</td>\n",
       "      <td>JSON, XML</td>\n",
       "      <td>Last.fm API</td>\n",
       "    </tr>\n",
       "    <tr>\n",
       "      <th>8</th>\n",
       "      <td>http://developer.ebay.com/webservices/latest/e...</td>\n",
       "      <td>http://developer.ebay.com/community/forums/</td>\n",
       "      <td>https://go.developer.ebay.com/developers/ebay</td>\n",
       "      <td>NaN</td>\n",
       "      <td>REST</td>\n",
       "      <td>NaN</td>\n",
       "      <td>eBay's primary web services are found in the t...</td>\n",
       "      <td>No</td>\n",
       "      <td>https://go.developer.ebay.com/developers/ebay</td>\n",
       "      <td>No</td>\n",
       "      <td>No</td>\n",
       "      <td>Search</td>\n",
       "      <td>No</td>\n",
       "      <td>Yes</td>\n",
       "      <td>Single purpose API</td>\n",
       "      <td>Auctions, eCommerce</td>\n",
       "      <td>NaN</td>\n",
       "      <td>XML, SOAP, URI Query String/CRUD, name-value</td>\n",
       "      <td>XML, SOAP, JSON</td>\n",
       "      <td>eBay API</td>\n",
       "    </tr>\n",
       "    <tr>\n",
       "      <th>9</th>\n",
       "      <td>NaN</td>\n",
       "      <td>http://forum.twilio.com/twilio/?from_gsfn=true</td>\n",
       "      <td>http://www.twilio.com/sms</td>\n",
       "      <td>NaN</td>\n",
       "      <td>REST</td>\n",
       "      <td>NaN</td>\n",
       "      <td>Twilio provides a simple hosted API and markup...</td>\n",
       "      <td>No</td>\n",
       "      <td>http://www.twilio.com/sms</td>\n",
       "      <td>No</td>\n",
       "      <td>No</td>\n",
       "      <td>Messaging</td>\n",
       "      <td>No</td>\n",
       "      <td>Yes</td>\n",
       "      <td>Single purpose API</td>\n",
       "      <td>Telephony, USA</td>\n",
       "      <td>NaN</td>\n",
       "      <td>None Specified</td>\n",
       "      <td>XML</td>\n",
       "      <td>Twilio SMS API</td>\n",
       "    </tr>\n",
       "    <tr>\n",
       "      <th>10</th>\n",
       "      <td>See-&gt; http://dev.live.com/virtualearth/sdk/</td>\n",
       "      <td>http://social.msdn.microsoft.com/forums/en-US/...</td>\n",
       "      <td>http://www.microsoft.com/maps/choose-your-bing...</td>\n",
       "      <td>Microsoft</td>\n",
       "      <td>Indirect</td>\n",
       "      <td>API Key</td>\n",
       "      <td>Bing Maps API and Interactive SDK features an ...</td>\n",
       "      <td>No</td>\n",
       "      <td>http://www.microsoft.com/maps/choose-your-bing...</td>\n",
       "      <td>No</td>\n",
       "      <td>No</td>\n",
       "      <td>Mapping</td>\n",
       "      <td>No</td>\n",
       "      <td>Yes</td>\n",
       "      <td>Single purpose API</td>\n",
       "      <td>Viewer</td>\n",
       "      <td>NaN</td>\n",
       "      <td>KML, XML, GeoRSS, JavaScript</td>\n",
       "      <td>KML</td>\n",
       "      <td>Microsoft Bing Maps API</td>\n",
       "    </tr>\n",
       "  </tbody>\n",
       "</table>\n",
       "</div>"
      ],
      "text/plain": [
       "                                          APIEndpoint  \\\n",
       "1                        http://twitter.com/statuses/   \n",
       "2                  https://www.youtube.com/iframe_api   \n",
       "3                     http://api.flickr.com/services/   \n",
       "4              http://api.facebook.com/restserver.php   \n",
       "5                      http://webservices.amazon.com/   \n",
       "6                   https://api.twilio.com/2010-04-01   \n",
       "7                   http://ws.audioscrobbler.com/2.0/   \n",
       "8   http://developer.ebay.com/webservices/latest/e...   \n",
       "9                                                 NaN   \n",
       "10        See-> http://dev.live.com/virtualearth/sdk/   \n",
       "\n",
       "                                APIForumMessageBoards  \\\n",
       "1   http://groups.google.com/group/twitter-develop...   \n",
       "2         http://groups.google.com/group/youtube-api/   \n",
       "3                    http://www.flickr.com/groups/api   \n",
       "4               http://forum.developers.facebook.com/   \n",
       "5   http://developer.amazonwebservices.com/connect...   \n",
       "6                         https://www.twilio.com/blog   \n",
       "7   http://www.last.fm/group/Last.fm+Web+Services/...   \n",
       "8         http://developer.ebay.com/community/forums/   \n",
       "9      http://forum.twilio.com/twilio/?from_gsfn=true   \n",
       "10  http://social.msdn.microsoft.com/forums/en-US/...   \n",
       "\n",
       "                                    APIPortalHomePage APIProvider  \\\n",
       "1                 https://dev.twitter.com/rest/public     Twitter   \n",
       "2              https://developers.google.com/youtube/      Google   \n",
       "3                 http://www.flickr.com/services/api/      Flickr   \n",
       "4                    https://developers.facebook.com/    Facebook   \n",
       "5   https://affiliate-program.amazon.com/gp/advert...      Amazon   \n",
       "6                               http://www.twilio.com      Twilio   \n",
       "7                              http://www.last.fm/api     Last.fm   \n",
       "8       https://go.developer.ebay.com/developers/ebay         NaN   \n",
       "9                           http://www.twilio.com/sms         NaN   \n",
       "10  http://www.microsoft.com/maps/choose-your-bing...   Microsoft   \n",
       "\n",
       "   ArchitecturalStyle            AuthenticationModel  \\\n",
       "1                REST                        OAuth 2   \n",
       "2                REST                        API Key   \n",
       "3                REST                        OAuth 1   \n",
       "4                REST               API Key, OAuth 2   \n",
       "5                REST                        API Key   \n",
       "6                REST       API Key, HTTP Basic Auth   \n",
       "7                REST  API Key, Shared Secret, Token   \n",
       "8                REST                            NaN   \n",
       "9                REST                            NaN   \n",
       "10           Indirect                        API Key   \n",
       "\n",
       "                                          Description DeviceSpecific  \\\n",
       "1   It has been split into multiple APIs, includin...             No   \n",
       "2   The Data API allows users to integrate their p...             No   \n",
       "3   The Flickr API can be used to retrieve photos ...             No   \n",
       "4   Its functions have been split among the follow...             No   \n",
       "5   What was formerly the ECSeCommerce Servicehas ...             No   \n",
       "6   Twilio provides a simple hosted API and markup...             No   \n",
       "7   The Last.fm API gives users the ability to bui...             No   \n",
       "8   eBay's primary web services are found in the t...             No   \n",
       "9   Twilio provides a simple hosted API and markup...             No   \n",
       "10  Bing Maps API and Interactive SDK features an ...             No   \n",
       "\n",
       "                                       DocsHomePageUR IsThisanUnofficialAPI  \\\n",
       "1                 https://dev.twitter.com/rest/public                    No   \n",
       "2              https://developers.google.com/youtube/                    No   \n",
       "3                 http://www.flickr.com/services/api/                    No   \n",
       "4                    https://developers.facebook.com/                    No   \n",
       "5   https://docs.aws.amazon.com/AWSECommerceServic...                    No   \n",
       "6                https://www.twilio.com/docs/api/rest                    No   \n",
       "7                              http://www.last.fm/api                    No   \n",
       "8       https://go.developer.ebay.com/developers/ebay                    No   \n",
       "9                           http://www.twilio.com/sms                    No   \n",
       "10  http://www.microsoft.com/maps/choose-your-bing...                    No   \n",
       "\n",
       "   IstheAPIDesign PrimaryCategory RestrictedAccess SSLSupport  \\\n",
       "1             Yes          Social               No         No   \n",
       "2              No           Video               No         No   \n",
       "3              No          Photos               No        Yes   \n",
       "4              No          Social               No        Yes   \n",
       "5             Yes       eCommerce              Yes         No   \n",
       "6              No       Telephony               No        Yes   \n",
       "7             Yes           Music               No         No   \n",
       "8              No          Search               No        Yes   \n",
       "9              No       Messaging               No        Yes   \n",
       "10             No         Mapping               No        Yes   \n",
       "\n",
       "                 Scope                     SecondaryCategories  \\\n",
       "1   Single purpose API                                Blogging   \n",
       "2   Single purpose API                                   Media   \n",
       "3   Single purpose API                                   Video   \n",
       "4   Single purpose API                                Webhooks   \n",
       "5   Single purpose API                             Advertising   \n",
       "6   Single purpose API  Cloud, Text-to-Speech, Voice, Webhooks   \n",
       "7   Single purpose API                                     NaN   \n",
       "8   Single purpose API                     Auctions, eCommerce   \n",
       "9   Single purpose API                          Telephony, USA   \n",
       "10  Single purpose API                                  Viewer   \n",
       "\n",
       "   SupportEmailAddress                            SupportedRequestFormats  \\\n",
       "1      api@twitter.com                              URI Query String/CRUD   \n",
       "2                  NaN  Atom, GData, RSS, URI Query String/CRUD, Atom ...   \n",
       "3                  NaN           URI Query String/CRUD, XML, PHP, XML-RPC   \n",
       "4                  NaN                              URI Query String/CRUD   \n",
       "5                  NaN                                          SOAP, XML   \n",
       "6      help@twilio.com                              URI Query String/CRUD   \n",
       "7       office@last.fm                              URI Query String/CRUD   \n",
       "8                  NaN       XML, SOAP, URI Query String/CRUD, name-value   \n",
       "9                  NaN                                     None Specified   \n",
       "10                 NaN                       KML, XML, GeoRSS, JavaScript   \n",
       "\n",
       "       SupportedResponseFormats                           Title  \n",
       "1          Atom, JSON, RSS, XML                     Twitter API  \n",
       "2   XML, JSON, GData, Atom, RSS                     YouTube API  \n",
       "3       JSON, XML, PHP, XML-RPC                      Flickr API  \n",
       "4                          JSON                    Facebook API  \n",
       "5                     SOAP, XML  Amazon Product Advertising API  \n",
       "6          CSV, HTML, JSON, XML                      Twilio API  \n",
       "7                     JSON, XML                     Last.fm API  \n",
       "8               XML, SOAP, JSON                        eBay API  \n",
       "9                           XML                  Twilio SMS API  \n",
       "10                          KML         Microsoft Bing Maps API  "
      ]
     },
     "execution_count": 4,
     "metadata": {},
     "output_type": "execute_result"
    }
   ],
   "source": [
    "df[1:11]"
   ]
  },
  {
   "cell_type": "code",
   "execution_count": 5,
   "metadata": {},
   "outputs": [
    {
     "data": {
      "text/plain": [
       "(15344, 20)"
      ]
     },
     "execution_count": 5,
     "metadata": {},
     "output_type": "execute_result"
    }
   ],
   "source": [
    "df.shape"
   ]
  },
  {
   "cell_type": "code",
   "execution_count": 6,
   "metadata": {},
   "outputs": [
    {
     "data": {
      "text/plain": [
       "Index(['APIEndpoint', 'APIForumMessageBoards', 'APIPortalHomePage',\n",
       "       'APIProvider', 'ArchitecturalStyle', 'AuthenticationModel',\n",
       "       'Description', 'DeviceSpecific', 'DocsHomePageUR',\n",
       "       'IsThisanUnofficialAPI', 'IstheAPIDesign', 'PrimaryCategory',\n",
       "       'RestrictedAccess', 'SSLSupport', 'Scope', 'SecondaryCategories',\n",
       "       'SupportEmailAddress', 'SupportedRequestFormats',\n",
       "       'SupportedResponseFormats', 'Title'],\n",
       "      dtype='object')"
      ]
     },
     "execution_count": 6,
     "metadata": {},
     "output_type": "execute_result"
    }
   ],
   "source": [
    "df.columns"
   ]
  },
  {
   "cell_type": "code",
   "execution_count": 7,
   "metadata": {},
   "outputs": [
    {
     "data": {
      "text/plain": [
       "0                                Mapping\n",
       "1                                 Social\n",
       "2                                  Video\n",
       "3                                 Photos\n",
       "4                                 Social\n",
       "5                              eCommerce\n",
       "6                              Telephony\n",
       "7                                  Music\n",
       "8                                 Search\n",
       "9                              Messaging\n",
       "10                               Mapping\n",
       "11                             Bookmarks\n",
       "12                                 Tools\n",
       "13                                Social\n",
       "14                               Widgets\n",
       "15                  Electronic Signature\n",
       "16                               Storage\n",
       "17                           Advertising\n",
       "18                             Reference\n",
       "19                             Reference\n",
       "20                               Content\n",
       "21                                 Cloud\n",
       "22                                Search\n",
       "23                                Social\n",
       "24                                Photos\n",
       "25                               Library\n",
       "26                                Search\n",
       "27                       Recommendations\n",
       "28                                 Music\n",
       "29                             Analytics\n",
       "                      ...               \n",
       "15314                               Food\n",
       "15315                 Project Management\n",
       "15316                          Financial\n",
       "15317                              Other\n",
       "15318                              Video\n",
       "15319                             Photos\n",
       "15320                             Search\n",
       "15321                 Project Management\n",
       "15322                             Sports\n",
       "15323                             Travel\n",
       "15324                        Advertising\n",
       "15325                            Storage\n",
       "15326                             Social\n",
       "15327                        Advertising\n",
       "15328                             Social\n",
       "15329                              Cloud\n",
       "15330                             Events\n",
       "15331                         Government\n",
       "15332    Personal Information Management\n",
       "15333                          Standards\n",
       "15334                          Telephony\n",
       "15335                             Sports\n",
       "15336                         Enterprise\n",
       "15337                              Games\n",
       "15338                           Blogging\n",
       "15339                           Security\n",
       "15340                              Email\n",
       "15341                              Games\n",
       "15342                          Financial\n",
       "15343                            Medical\n",
       "Name: PrimaryCategory, Length: 15344, dtype: object"
      ]
     },
     "execution_count": 7,
     "metadata": {},
     "output_type": "execute_result"
    }
   ],
   "source": [
    "# equal to df.PrimaryCategory\n",
    "label = df['PrimaryCategory']\n",
    "label"
   ]
  },
  {
   "cell_type": "markdown",
   "metadata": {},
   "source": [
    "## Preprocessing Null"
   ]
  },
  {
   "cell_type": "markdown",
   "metadata": {},
   "source": [
    "### Some Category is Null"
   ]
  },
  {
   "cell_type": "code",
   "execution_count": 8,
   "metadata": {},
   "outputs": [
    {
     "data": {
      "text/plain": [
       "35"
      ]
     },
     "execution_count": 8,
     "metadata": {},
     "output_type": "execute_result"
    }
   ],
   "source": [
    "label.isnull().sum()"
   ]
  },
  {
   "cell_type": "code",
   "execution_count": 9,
   "metadata": {},
   "outputs": [
    {
     "data": {
      "text/plain": [
       "93       NaN\n",
       "113      NaN\n",
       "281      NaN\n",
       "298      NaN\n",
       "587      NaN\n",
       "629      NaN\n",
       "639      NaN\n",
       "659      NaN\n",
       "982      NaN\n",
       "1307     NaN\n",
       "1359     NaN\n",
       "1371     NaN\n",
       "1387     NaN\n",
       "1920     NaN\n",
       "3140     NaN\n",
       "4066     NaN\n",
       "4666     NaN\n",
       "11668    NaN\n",
       "12240    NaN\n",
       "12465    NaN\n",
       "12750    NaN\n",
       "12813    NaN\n",
       "13378    NaN\n",
       "13423    NaN\n",
       "13544    NaN\n",
       "13819    NaN\n",
       "14100    NaN\n",
       "14637    NaN\n",
       "14659    NaN\n",
       "14682    NaN\n",
       "14687    NaN\n",
       "14852    NaN\n",
       "14876    NaN\n",
       "14887    NaN\n",
       "15267    NaN\n",
       "Name: PrimaryCategory, dtype: object"
      ]
     },
     "execution_count": 9,
     "metadata": {},
     "output_type": "execute_result"
    }
   ],
   "source": [
    "label[label.isnull()]"
   ]
  },
  {
   "cell_type": "markdown",
   "metadata": {},
   "source": [
    "### Get rid of Null Category Entry"
   ]
  },
  {
   "cell_type": "code",
   "execution_count": 10,
   "metadata": {},
   "outputs": [],
   "source": [
    "data = df.loc[label.notnull(), :]"
   ]
  },
  {
   "cell_type": "markdown",
   "metadata": {},
   "source": [
    "### Get rid of Description and Category is ''"
   ]
  },
  {
   "cell_type": "code",
   "execution_count": 11,
   "metadata": {},
   "outputs": [],
   "source": [
    "des = data.Description\n",
    "des.isnull().sum()\n",
    "data = df[df.Description != '']"
   ]
  },
  {
   "cell_type": "code",
   "execution_count": 12,
   "metadata": {},
   "outputs": [
    {
     "data": {
      "text/plain": [
       "(15340, 20)"
      ]
     },
     "execution_count": 12,
     "metadata": {},
     "output_type": "execute_result"
    }
   ],
   "source": [
    "data = data[data.PrimaryCategory != '']\n",
    "data.shape"
   ]
  },
  {
   "cell_type": "markdown",
   "metadata": {},
   "source": [
    "### Checking Second Entry"
   ]
  },
  {
   "cell_type": "code",
   "execution_count": 13,
   "metadata": {},
   "outputs": [
    {
     "data": {
      "text/plain": [
       "\"The Data API allows users to integrate their program with YouTube and allow it to perform many of the operations available on the website. It provides the capability to search for videos, retrieve standard feeds, and see related content. A program can also authenticate as a user to upload videos, modify user playlists, and more. This integration can be used for a variety of uses such as developing a web application allowing users to upload video to YouTube, or a device or desktop application that brings the YouTube experience to a new platform. The Data API gives users programmatic access to the video and user information stored on YouTube. This can be used to personalize a web site or application with the user's existing information as well as perform actions like commenting on and rating videos. This RESTful API provides responses in XML format.\""
      ]
     },
     "execution_count": 13,
     "metadata": {},
     "output_type": "execute_result"
    }
   ],
   "source": [
    "data.loc[2, 'Description']"
   ]
  },
  {
   "cell_type": "code",
   "execution_count": 14,
   "metadata": {},
   "outputs": [
    {
     "data": {
      "text/plain": [
       "'Video'"
      ]
     },
     "execution_count": 14,
     "metadata": {},
     "output_type": "execute_result"
    }
   ],
   "source": [
    "data.loc[2, 'PrimaryCategory']"
   ]
  },
  {
   "cell_type": "code",
   "execution_count": 15,
   "metadata": {},
   "outputs": [
    {
     "data": {
      "text/plain": [
       "'Google'"
      ]
     },
     "execution_count": 15,
     "metadata": {},
     "output_type": "execute_result"
    }
   ],
   "source": [
    "data.loc[2, 'APIProvider']"
   ]
  },
  {
   "cell_type": "code",
   "execution_count": 16,
   "metadata": {
    "scrolled": true
   },
   "outputs": [
    {
     "data": {
      "text/plain": [
       "0    Mapping\n",
       "1     Social\n",
       "2      Video\n",
       "3     Photos\n",
       "4     Social\n",
       "Name: PrimaryCategory, dtype: object"
      ]
     },
     "execution_count": 16,
     "metadata": {},
     "output_type": "execute_result"
    }
   ],
   "source": [
    "data.loc[:, 'PrimaryCategory'].head()"
   ]
  },
  {
   "cell_type": "markdown",
   "metadata": {},
   "source": [
    "### How many primary category in the data?"
   ]
  },
  {
   "cell_type": "code",
   "execution_count": 17,
   "metadata": {},
   "outputs": [
    {
     "data": {
      "text/plain": [
       "402"
      ]
     },
     "execution_count": 17,
     "metadata": {},
     "output_type": "execute_result"
    }
   ],
   "source": [
    "len(set(data.loc[:, 'PrimaryCategory']))"
   ]
  },
  {
   "cell_type": "markdown",
   "metadata": {},
   "source": [
    "### Final Data, Input = Description, Output = PrimaryCategroy"
   ]
  },
  {
   "cell_type": "code",
   "execution_count": 18,
   "metadata": {},
   "outputs": [],
   "source": [
    "finaldata = pd.DataFrame(data, columns=['Description', 'PrimaryCategory'])"
   ]
  },
  {
   "cell_type": "code",
   "execution_count": 19,
   "metadata": {},
   "outputs": [],
   "source": [
    "finaldata.columns = ['Service Desciption', 'Service Classification']"
   ]
  },
  {
   "cell_type": "code",
   "execution_count": 20,
   "metadata": {},
   "outputs": [
    {
     "data": {
      "text/plain": [
       "(15340, 2)"
      ]
     },
     "execution_count": 20,
     "metadata": {},
     "output_type": "execute_result"
    }
   ],
   "source": [
    "finaldata.shape"
   ]
  },
  {
   "cell_type": "markdown",
   "metadata": {},
   "source": [
    "## Preview"
   ]
  },
  {
   "cell_type": "code",
   "execution_count": 21,
   "metadata": {},
   "outputs": [
    {
     "data": {
      "text/html": [
       "<style  type=\"text/css\" >\n",
       "    #T_91641fd4_cc69_11e8_a020_0242ac110004 th {\n",
       "          font-size: 180%;\n",
       "          text-align: left;\n",
       "    }    #T_91641fd4_cc69_11e8_a020_0242ac110004 td {\n",
       "          font-size: 120%;\n",
       "          text-align: left;\n",
       "    }    #T_91641fd4_cc69_11e8_a020_0242ac110004 caption {\n",
       "          caption-side: bottom;\n",
       "          width: 600px;\n",
       "    }</style>  \n",
       "<table id=\"T_91641fd4_cc69_11e8_a020_0242ac110004\" > \n",
       "<thead>    <tr> \n",
       "        <th class=\"blank level0\" ></th> \n",
       "        <th class=\"col_heading level0 col0\" >Service Desciption</th> \n",
       "        <th class=\"col_heading level0 col1\" >Service Classification</th> \n",
       "    </tr></thead> \n",
       "<tbody>    <tr> \n",
       "        <th id=\"T_91641fd4_cc69_11e8_a020_0242ac110004level0_row0\" class=\"row_heading level0 row0\" >0</th> \n",
       "        <td id=\"T_91641fd4_cc69_11e8_a020_0242ac110004row0_col0\" class=\"data row0 col0\" >Google Maps' services have been split into multiple APIs, including the Static Maps API, Street View Image API, Directions APIs, Distance Matrix API, Elevation API, Geocoding API, Geolocation API, Places API, Roads API, and Time Zone API. This page is maintained purely for historical and research purposes.] The Google Maps API allow for the embedding of Google Maps onto web pages of outside developers, using a simple JavaScript interface or a Flash interface. It is designed to work on both mobile devices as well as traditional desktop browser applications. The API includes language localization for over 50 languages, region localization and geocoding, and has mechanisms for enterprise developers who want to utilize the Google Maps API within an intranet. The API HTTP services can be accessed over a secure (HTTPS) connection by Google Maps API Premier customers.</td> \n",
       "        <td id=\"T_91641fd4_cc69_11e8_a020_0242ac110004row0_col1\" class=\"data row0 col1\" >Mapping</td> \n",
       "    </tr>    <tr> \n",
       "        <th id=\"T_91641fd4_cc69_11e8_a020_0242ac110004level0_row1\" class=\"row_heading level0 row1\" >1</th> \n",
       "        <td id=\"T_91641fd4_cc69_11e8_a020_0242ac110004row1_col0\" class=\"data row1 col0\" >It has been split into multiple APIs, including the Twitter Ads API, Twitter Search Tweets API, and Twitter Direct Message API. This profile is maintained for historical, research, and reference purposes only.The Twitter micro-blogging service includes two RESTful APIs. The Twitter REST API methods allow developers to access core Twitter data. This includes update timelines, status data, and user information. The Search API methods give developers methods to interact with Twitter Search and trends data. The API presently supports the following data formats: XML, JSON, and the RSS and Atom syndication formats, with some methods only accepting a subset of these formats.</td> \n",
       "        <td id=\"T_91641fd4_cc69_11e8_a020_0242ac110004row1_col1\" class=\"data row1 col1\" >Social</td> \n",
       "    </tr>    <tr> \n",
       "        <th id=\"T_91641fd4_cc69_11e8_a020_0242ac110004level0_row2\" class=\"row_heading level0 row2\" >2</th> \n",
       "        <td id=\"T_91641fd4_cc69_11e8_a020_0242ac110004row2_col0\" class=\"data row2 col0\" >The Data API allows users to integrate their program with YouTube and allow it to perform many of the operations available on the website. It provides the capability to search for videos, retrieve standard feeds, and see related content. A program can also authenticate as a user to upload videos, modify user playlists, and more. This integration can be used for a variety of uses such as developing a web application allowing users to upload video to YouTube, or a device or desktop application that brings the YouTube experience to a new platform. The Data API gives users programmatic access to the video and user information stored on YouTube. This can be used to personalize a web site or application with the user's existing information as well as perform actions like commenting on and rating videos. This RESTful API provides responses in XML format.</td> \n",
       "        <td id=\"T_91641fd4_cc69_11e8_a020_0242ac110004row2_col1\" class=\"data row2 col1\" >Video</td> \n",
       "    </tr>    <tr> \n",
       "        <th id=\"T_91641fd4_cc69_11e8_a020_0242ac110004level0_row3\" class=\"row_heading level0 row3\" >3</th> \n",
       "        <td id=\"T_91641fd4_cc69_11e8_a020_0242ac110004row3_col0\" class=\"data row3 col0\" >The Flickr API can be used to retrieve photos from the Flickr photo sharing service using a variety of feedspublic photos and videos, favorites, friends, group pools, discussions, and more. The API can also be used to upload photos and video.The Flickr API supports many protocols including REST, SOAP, XML-RPC. Responses can be formatted in XML, XML-RPC, JSON and PHP. Documentation is included for 14 API Kit libraries.</td> \n",
       "        <td id=\"T_91641fd4_cc69_11e8_a020_0242ac110004row3_col1\" class=\"data row3 col1\" >Photos</td> \n",
       "    </tr>    <tr> \n",
       "        <th id=\"T_91641fd4_cc69_11e8_a020_0242ac110004level0_row4\" class=\"row_heading level0 row4\" >4</th> \n",
       "        <td id=\"T_91641fd4_cc69_11e8_a020_0242ac110004row4_col0\" class=\"data row4 col0\" >Its functions have been split among the following APIs: Facebook Ads, Facebook Atlas, Facebook Graph, and Facebook Marketing. This profile is being maintained purely for historical and research purposes.] The Facebook API is a platform for building applications that are available to the members of the social network of Facebook. The API allows applications to use the social connections and profile information to make applications more involving, and to publish activities to the news feed and profile pages of Facebook, subject to individual users privacy settings. With the API, users can add social context to their applications by utilizing profile, friend, Page, group, photo, and event data. The API uses RESTful protocol and responses are in JSON format.</td> \n",
       "        <td id=\"T_91641fd4_cc69_11e8_a020_0242ac110004row4_col1\" class=\"data row4 col1\" >Social</td> \n",
       "    </tr></tbody> \n",
       "</table> "
      ],
      "text/plain": [
       "<pandas.io.formats.style.Styler at 0x7f4f97fec3c8>"
      ]
     },
     "execution_count": 21,
     "metadata": {},
     "output_type": "execute_result"
    }
   ],
   "source": [
    "top10 = finaldata.head(5)\n",
    "#top10.style.set_properties(subset=['Service Classification'], **{'width': '400px', 'text-align': 'left'})\n",
    "#top10.style.set_properties(subset=['Service Desciption'], **{'width': '600px', 'text-align': 'left', \"font-size\": \"100%\"})\n",
    "\n",
    "\n",
    "styles = [\n",
    "    dict(selector=\"th\", props=[(\"font-size\", \"180%\"), (\"text-align\", \"left\")]),\n",
    "    dict(selector=\"td\", props=[(\"font-size\", \"120%\"), (\"text-align\", \"left\")]),\n",
    "    dict(selector=\"caption\", props=[(\"caption-side\", \"bottom\"), ('width', '600px')]),\n",
    "]\n",
    "top10.style.set_table_styles(styles)\n",
    "\n",
    "#top10.style.set_properties(subset=['Service Classification'], **{'width': '150px', 'text-align': 'left'})\n",
    "\n",
    "\n",
    "# html"
   ]
  },
  {
   "cell_type": "markdown",
   "metadata": {},
   "source": [
    "## 2. Categories Anaylsis"
   ]
  },
  {
   "cell_type": "markdown",
   "metadata": {},
   "source": [
    "### Count Number of Categories"
   ]
  },
  {
   "cell_type": "code",
   "execution_count": 22,
   "metadata": {
    "scrolled": true
   },
   "outputs": [
    {
     "data": {
      "text/plain": [
       "Tools                  767\n",
       "Financial              687\n",
       "Messaging              511\n",
       "eCommerce              466\n",
       "Payments               460\n",
       "Social                 433\n",
       "Enterprise             412\n",
       "Mapping                362\n",
       "Government             304\n",
       "Telephony              300\n",
       "Science                298\n",
       "Email                  255\n",
       "Reference              251\n",
       "Video                  251\n",
       "Search                 251\n",
       "Security               251\n",
       "Travel                 243\n",
       "Sports                 228\n",
       "Advertising            224\n",
       "Transportation         218\n",
       "Education              215\n",
       "Games                  203\n",
       "Music                  191\n",
       "Photos                 185\n",
       "Cloud                  173\n",
       "Other                  158\n",
       "Bitcoin                143\n",
       "Data                   142\n",
       "Project Management     142\n",
       "Database               136\n",
       "                      ... \n",
       "Recreation               1\n",
       "Copyright                1\n",
       "Adoption                 1\n",
       "Developer Relations      1\n",
       "Housing                  1\n",
       "History                  1\n",
       "Newsletters              1\n",
       "Viewer                   1\n",
       "OAuth                    1\n",
       "Subtitles                1\n",
       "Contracts                1\n",
       "German                   1\n",
       "Summary                  1\n",
       "Sustainability           1\n",
       "Announcements            1\n",
       "Trivia                   1\n",
       "Canadian                 1\n",
       "Discounts                1\n",
       "Notes                    1\n",
       "Tourism                  1\n",
       "IDE                      1\n",
       "API Education            1\n",
       "Accessibility            1\n",
       "Virtualization           1\n",
       "African                  1\n",
       "Australian               1\n",
       "REST                     1\n",
       "iPaaS                    1\n",
       "Gestures                 1\n",
       "Postcodes                1\n",
       "Name: Service Classification, Length: 401, dtype: int64"
      ]
     },
     "execution_count": 22,
     "metadata": {},
     "output_type": "execute_result"
    }
   ],
   "source": [
    "labelcount = finaldata['Service Classification'].value_counts()\n",
    "labelcount"
   ]
  },
  {
   "cell_type": "markdown",
   "metadata": {},
   "source": [
    "### Category Number > 100"
   ]
  },
  {
   "cell_type": "code",
   "execution_count": 23,
   "metadata": {},
   "outputs": [
    {
     "data": {
      "text/plain": [
       "41"
      ]
     },
     "execution_count": 23,
     "metadata": {},
     "output_type": "execute_result"
    }
   ],
   "source": [
    "labelcount[labelcount > 100].count()"
   ]
  },
  {
   "cell_type": "markdown",
   "metadata": {},
   "source": [
    "### Category Number > 200"
   ]
  },
  {
   "cell_type": "code",
   "execution_count": 24,
   "metadata": {},
   "outputs": [
    {
     "data": {
      "text/plain": [
       "22"
      ]
     },
     "execution_count": 24,
     "metadata": {},
     "output_type": "execute_result"
    }
   ],
   "source": [
    "labelcount[labelcount > 200].count()"
   ]
  },
  {
   "cell_type": "code",
   "execution_count": 25,
   "metadata": {},
   "outputs": [
    {
     "data": {
      "text/plain": [
       "Tools         767\n",
       "Financial     687\n",
       "Messaging     511\n",
       "eCommerce     466\n",
       "Payments      460\n",
       "Social        433\n",
       "Enterprise    412\n",
       "Mapping       362\n",
       "Government    304\n",
       "Telephony     300\n",
       "Name: Service Classification, dtype: int64"
      ]
     },
     "execution_count": 25,
     "metadata": {},
     "output_type": "execute_result"
    }
   ],
   "source": [
    "labelcount[0:10]"
   ]
  },
  {
   "cell_type": "code",
   "execution_count": 26,
   "metadata": {},
   "outputs": [
    {
     "data": {
      "text/plain": [
       "Tools             767\n",
       "Financial         687\n",
       "Messaging         511\n",
       "eCommerce         466\n",
       "Payments          460\n",
       "Social            433\n",
       "Enterprise        412\n",
       "Mapping           362\n",
       "Government        304\n",
       "Telephony         300\n",
       "Science           298\n",
       "Email             255\n",
       "Reference         251\n",
       "Video             251\n",
       "Search            251\n",
       "Security          251\n",
       "Travel            243\n",
       "Sports            228\n",
       "Advertising       224\n",
       "Transportation    218\n",
       "Name: Service Classification, dtype: int64"
      ]
     },
     "execution_count": 26,
     "metadata": {},
     "output_type": "execute_result"
    }
   ],
   "source": [
    "labelcount[0:20]"
   ]
  },
  {
   "cell_type": "code",
   "execution_count": 27,
   "metadata": {},
   "outputs": [
    {
     "data": {
      "text/plain": [
       "Tools                 767\n",
       "Financial             687\n",
       "Messaging             511\n",
       "eCommerce             466\n",
       "Payments              460\n",
       "Social                433\n",
       "Enterprise            412\n",
       "Mapping               362\n",
       "Government            304\n",
       "Telephony             300\n",
       "Science               298\n",
       "Email                 255\n",
       "Reference             251\n",
       "Video                 251\n",
       "Search                251\n",
       "Security              251\n",
       "Travel                243\n",
       "Sports                228\n",
       "Advertising           224\n",
       "Transportation        218\n",
       "Education             215\n",
       "Games                 203\n",
       "Music                 191\n",
       "Photos                185\n",
       "Cloud                 173\n",
       "Other                 158\n",
       "Bitcoin               143\n",
       "Data                  142\n",
       "Project Management    142\n",
       "Database              136\n",
       "Name: Service Classification, dtype: int64"
      ]
     },
     "execution_count": 27,
     "metadata": {},
     "output_type": "execute_result"
    }
   ],
   "source": [
    "labelcount[0:30]"
   ]
  },
  {
   "cell_type": "code",
   "execution_count": 28,
   "metadata": {},
   "outputs": [
    {
     "data": {
      "text/plain": [
       "Tools                      767\n",
       "Financial                  687\n",
       "Messaging                  511\n",
       "eCommerce                  466\n",
       "Payments                   460\n",
       "Social                     433\n",
       "Enterprise                 412\n",
       "Mapping                    362\n",
       "Government                 304\n",
       "Telephony                  300\n",
       "Science                    298\n",
       "Email                      255\n",
       "Reference                  251\n",
       "Video                      251\n",
       "Search                     251\n",
       "Security                   251\n",
       "Travel                     243\n",
       "Sports                     228\n",
       "Advertising                224\n",
       "Transportation             218\n",
       "Education                  215\n",
       "Games                      203\n",
       "Music                      191\n",
       "Photos                     185\n",
       "Cloud                      173\n",
       "Other                      158\n",
       "Bitcoin                    143\n",
       "Data                       142\n",
       "Project Management         142\n",
       "Database                   136\n",
       "Shipping                   136\n",
       "Backend                    134\n",
       "Stocks                     133\n",
       "Weather                    132\n",
       "Application Development    123\n",
       "Analytics                  115\n",
       "Internet of Things         113\n",
       "Banking                    111\n",
       "Medical                    110\n",
       "Events                     108\n",
       "Name: Service Classification, dtype: int64"
      ]
     },
     "execution_count": 28,
     "metadata": {},
     "output_type": "execute_result"
    }
   ],
   "source": [
    "labelcount[0:40]"
   ]
  },
  {
   "cell_type": "code",
   "execution_count": 29,
   "metadata": {},
   "outputs": [
    {
     "data": {
      "text/plain": [
       "Tools                      767\n",
       "Financial                  687\n",
       "Messaging                  511\n",
       "eCommerce                  466\n",
       "Payments                   460\n",
       "Social                     433\n",
       "Enterprise                 412\n",
       "Mapping                    362\n",
       "Government                 304\n",
       "Telephony                  300\n",
       "Science                    298\n",
       "Email                      255\n",
       "Reference                  251\n",
       "Video                      251\n",
       "Search                     251\n",
       "Security                   251\n",
       "Travel                     243\n",
       "Sports                     228\n",
       "Advertising                224\n",
       "Transportation             218\n",
       "Education                  215\n",
       "Games                      203\n",
       "Music                      191\n",
       "Photos                     185\n",
       "Cloud                      173\n",
       "Other                      158\n",
       "Bitcoin                    143\n",
       "Data                       142\n",
       "Project Management         142\n",
       "Database                   136\n",
       "Shipping                   136\n",
       "Backend                    134\n",
       "Stocks                     133\n",
       "Weather                    132\n",
       "Application Development    123\n",
       "Analytics                  115\n",
       "Internet of Things         113\n",
       "Banking                    111\n",
       "Medical                    110\n",
       "Events                     108\n",
       "Real Estate                108\n",
       "Storage                     99\n",
       "Entertainment               95\n",
       "File Sharing                86\n",
       "Domains                     84\n",
       "Images                      83\n",
       "News Services               82\n",
       "Media                       82\n",
       "Chat                        82\n",
       "Marketing                   81\n",
       "Name: Service Classification, dtype: int64"
      ]
     },
     "execution_count": 29,
     "metadata": {},
     "output_type": "execute_result"
    }
   ],
   "source": [
    "labelcount[0:50]"
   ]
  },
  {
   "cell_type": "code",
   "execution_count": 30,
   "metadata": {
    "scrolled": true
   },
   "outputs": [
    {
     "data": {
      "text/plain": [
       "Tools                               767\n",
       "Financial                           687\n",
       "Messaging                           511\n",
       "eCommerce                           466\n",
       "Payments                            460\n",
       "Social                              433\n",
       "Enterprise                          412\n",
       "Mapping                             362\n",
       "Government                          304\n",
       "Telephony                           300\n",
       "Science                             298\n",
       "Email                               255\n",
       "Reference                           251\n",
       "Video                               251\n",
       "Search                              251\n",
       "Security                            251\n",
       "Travel                              243\n",
       "Sports                              228\n",
       "Advertising                         224\n",
       "Transportation                      218\n",
       "Education                           215\n",
       "Games                               203\n",
       "Music                               191\n",
       "Photos                              185\n",
       "Cloud                               173\n",
       "Other                               158\n",
       "Bitcoin                             143\n",
       "Data                                142\n",
       "Project Management                  142\n",
       "Database                            136\n",
       "                                   ... \n",
       "Customer Relationship Management     43\n",
       "Calendars                            43\n",
       "Sentiment                            42\n",
       "Air Travel                           42\n",
       "Translation                          42\n",
       "Content                              42\n",
       "Bots                                 41\n",
       "Voice                                39\n",
       "Artificial Intelligence              39\n",
       "Machine Learning                     39\n",
       "Platform-as-a-Service                37\n",
       "Authentication                       35\n",
       "SEO                                  34\n",
       "Collaboration                        33\n",
       "Human Resources                      33\n",
       "Personal Information Management      32\n",
       "Agriculture                          32\n",
       "Applications                         31\n",
       "Library                              31\n",
       "Documents                            31\n",
       "Data-as-a-Service                    30\n",
       "Big Data                             30\n",
       "Printing                             30\n",
       "Addresses                            30\n",
       "Conversions                          30\n",
       "Astronomy                            30\n",
       "Browsers                             29\n",
       "Notifications                        29\n",
       "Sales                                29\n",
       "Gambling                             28\n",
       "Name: Service Classification, Length: 100, dtype: int64"
      ]
     },
     "execution_count": 30,
     "metadata": {},
     "output_type": "execute_result"
    }
   ],
   "source": [
    "labelcount[0:100]"
   ]
  },
  {
   "cell_type": "markdown",
   "metadata": {},
   "source": [
    "### Half of categories less than 10"
   ]
  },
  {
   "cell_type": "code",
   "execution_count": 31,
   "metadata": {},
   "outputs": [
    {
     "data": {
      "text/plain": [
       "217"
      ]
     },
     "execution_count": 31,
     "metadata": {},
     "output_type": "execute_result"
    }
   ],
   "source": [
    "labelcount[labelcount < 10].count()"
   ]
  },
  {
   "cell_type": "code",
   "execution_count": 32,
   "metadata": {},
   "outputs": [
    {
     "data": {
      "text/plain": [
       "41"
      ]
     },
     "execution_count": 32,
     "metadata": {},
     "output_type": "execute_result"
    }
   ],
   "source": [
    "labelcount[labelcount > 100].count()"
   ]
  },
  {
   "cell_type": "code",
   "execution_count": 36,
   "metadata": {},
   "outputs": [
    {
     "data": {
      "text/plain": [
       "41"
      ]
     },
     "execution_count": 36,
     "metadata": {},
     "output_type": "execute_result"
    }
   ],
   "source": [
    "labelcount[labelcount == 1].count()"
   ]
  },
  {
   "cell_type": "code",
   "execution_count": 38,
   "metadata": {},
   "outputs": [
    {
     "data": {
      "text/plain": [
       "Panorama               1\n",
       "Economics              1\n",
       "Polls                  1\n",
       "Flowers                1\n",
       "Modules                1\n",
       "Datacenter             1\n",
       "Availability           1\n",
       "European               1\n",
       "Drawing                1\n",
       "Gadgets                1\n",
       "Civics                 1\n",
       "Recreation             1\n",
       "Copyright              1\n",
       "Adoption               1\n",
       "Developer Relations    1\n",
       "Housing                1\n",
       "History                1\n",
       "Newsletters            1\n",
       "Viewer                 1\n",
       "OAuth                  1\n",
       "Subtitles              1\n",
       "Contracts              1\n",
       "German                 1\n",
       "Summary                1\n",
       "Sustainability         1\n",
       "Announcements          1\n",
       "Trivia                 1\n",
       "Canadian               1\n",
       "Discounts              1\n",
       "Notes                  1\n",
       "Tourism                1\n",
       "IDE                    1\n",
       "API Education          1\n",
       "Accessibility          1\n",
       "Virtualization         1\n",
       "African                1\n",
       "Australian             1\n",
       "REST                   1\n",
       "iPaaS                  1\n",
       "Gestures               1\n",
       "Postcodes              1\n",
       "Name: Service Classification, dtype: int64"
      ]
     },
     "execution_count": 38,
     "metadata": {},
     "output_type": "execute_result"
    }
   ],
   "source": [
    "labelcount[401-41:401]"
   ]
  },
  {
   "cell_type": "code",
   "execution_count": 39,
   "metadata": {},
   "outputs": [
    {
     "data": {
      "text/plain": [
       "728.8329177057357"
      ]
     },
     "execution_count": 39,
     "metadata": {},
     "output_type": "execute_result"
    }
   ],
   "source": [
    "maxcount = labelcount[0]\n",
    "np.mean(abs(maxcount - labelcount))"
   ]
  },
  {
   "cell_type": "markdown",
   "metadata": {},
   "source": [
    "### Histogram"
   ]
  },
  {
   "cell_type": "code",
   "execution_count": 85,
   "metadata": {},
   "outputs": [
    {
     "data": {
      "image/png": "[encoded data removed]",
      "text/plain": [
       "<Figure size 5040x720 with 1 Axes>"
      ]
     },
     "metadata": {},
     "output_type": "display_data"
    }
   ],
   "source": [
    "plt.figure(figsize=(70, 10))\n",
    "labelcount.plot(kind='bar')\n",
    "plt.savefig('../Data/HistogramAllCatagories.pdf', format='pdf', dpi=300)"
   ]
  },
  {
   "cell_type": "markdown",
   "metadata": {},
   "source": [
    "### Get TOP 50 categories dataset"
   ]
  },
  {
   "cell_type": "code",
   "execution_count": 43,
   "metadata": {},
   "outputs": [],
   "source": [
    "top50 = labelcount[0:50]"
   ]
  },
  {
   "cell_type": "code",
   "execution_count": 44,
   "metadata": {},
   "outputs": [],
   "source": [
    "top50list = list(top50.index)\n",
    "top50index = finaldata['Service Classification'].isin(top50list)"
   ]
  },
  {
   "cell_type": "code",
   "execution_count": 45,
   "metadata": {},
   "outputs": [
    {
     "data": {
      "text/plain": [
       "(10957, 2)"
      ]
     },
     "execution_count": 45,
     "metadata": {},
     "output_type": "execute_result"
    }
   ],
   "source": [
    "top50data = finaldata.loc[top50index]\n",
    "top50data.shape"
   ]
  },
  {
   "cell_type": "code",
   "execution_count": 47,
   "metadata": {
    "scrolled": true
   },
   "outputs": [],
   "source": [
    "top50labelcount = top50data['Service Classification'].value_counts()"
   ]
  },
  {
   "cell_type": "code",
   "execution_count": 48,
   "metadata": {},
   "outputs": [
    {
     "data": {
      "text/plain": [
       "547.86"
      ]
     },
     "execution_count": 48,
     "metadata": {},
     "output_type": "execute_result"
    }
   ],
   "source": [
    "maxcount = top50labelcount[0]\n",
    "np.mean(abs(maxcount - top50labelcount))"
   ]
  },
  {
   "cell_type": "code",
   "execution_count": 83,
   "metadata": {},
   "outputs": [
    {
     "data": {
      "image/png": "[encoded data removed]",
      "text/plain": [
       "<Figure size 1800x1080 with 1 Axes>"
      ]
     },
     "metadata": {},
     "output_type": "display_data"
    }
   ],
   "source": [
    "plt.figure(figsize=(25, 15))\n",
    "top50labelcount.plot(kind='bar', fontsize=15)\n",
    "plt.savefig('../Data/HistogramTop50.pdf', format='pdf', dpi=300)"
   ]
  },
  {
   "cell_type": "code",
   "execution_count": 82,
   "metadata": {},
   "outputs": [
    {
     "data": {
      "text/plain": [
       "Tools                      767\n",
       "Financial                  687\n",
       "Messaging                  511\n",
       "eCommerce                  466\n",
       "Payments                   460\n",
       "Social                     433\n",
       "Enterprise                 412\n",
       "Mapping                    362\n",
       "Government                 304\n",
       "Telephony                  300\n",
       "Science                    298\n",
       "Email                      255\n",
       "Search                     251\n",
       "Video                      251\n",
       "Security                   251\n",
       "Reference                  251\n",
       "Travel                     243\n",
       "Sports                     228\n",
       "Advertising                224\n",
       "Transportation             218\n",
       "Education                  215\n",
       "Games                      203\n",
       "Music                      191\n",
       "Photos                     185\n",
       "Cloud                      173\n",
       "Other                      158\n",
       "Bitcoin                    143\n",
       "Project Management         142\n",
       "Data                       142\n",
       "Database                   136\n",
       "Shipping                   136\n",
       "Backend                    134\n",
       "Stocks                     133\n",
       "Weather                    132\n",
       "Application Development    123\n",
       "Analytics                  115\n",
       "Internet of Things         113\n",
       "Banking                    111\n",
       "Medical                    110\n",
       "Real Estate                108\n",
       "Events                     108\n",
       "Storage                     99\n",
       "Entertainment               95\n",
       "File Sharing                86\n",
       "Domains                     84\n",
       "Images                      83\n",
       "News Services               82\n",
       "Chat                        82\n",
       "Media                       82\n",
       "Marketing                   81\n",
       "Name: Service Classification, dtype: int64"
      ]
     },
     "execution_count": 82,
     "metadata": {},
     "output_type": "execute_result"
    }
   ],
   "source": [
    "top50labelcount"
   ]
  },
  {
   "cell_type": "markdown",
   "metadata": {},
   "source": [
    "## 3. Service Description to Vector"
   ]
  },
  {
   "cell_type": "code",
   "execution_count": 51,
   "metadata": {},
   "outputs": [
    {
     "name": "stderr",
     "output_type": "stream",
     "text": [
      "Using TensorFlow backend.\n"
     ]
    }
   ],
   "source": [
    "from keras.preprocessing.text import Tokenizer\n",
    "from keras.preprocessing.text import hashing_trick\n",
    "from keras.preprocessing.sequence import pad_sequences\n",
    "from keras.preprocessing.text import one_hot\n",
    "import numpy as np\n",
    "from math import *\n",
    "from scipy import stats"
   ]
  },
  {
   "cell_type": "markdown",
   "metadata": {},
   "source": [
    "### Max Length of the Description"
   ]
  },
  {
   "cell_type": "code",
   "execution_count": 52,
   "metadata": {},
   "outputs": [
    {
     "data": {
      "text/html": [
       "<div>\n",
       "<style scoped>\n",
       "    .dataframe tbody tr th:only-of-type {\n",
       "        vertical-align: middle;\n",
       "    }\n",
       "\n",
       "    .dataframe tbody tr th {\n",
       "        vertical-align: top;\n",
       "    }\n",
       "\n",
       "    .dataframe thead th {\n",
       "        text-align: right;\n",
       "    }\n",
       "</style>\n",
       "<table border=\"1\" class=\"dataframe\">\n",
       "  <thead>\n",
       "    <tr style=\"text-align: right;\">\n",
       "      <th></th>\n",
       "      <th>Service Desciption</th>\n",
       "      <th>Service Classification</th>\n",
       "    </tr>\n",
       "  </thead>\n",
       "  <tbody>\n",
       "    <tr>\n",
       "      <th>11856</th>\n",
       "      <td>GroupDocs is an online document management pla...</td>\n",
       "      <td>File Sharing</td>\n",
       "    </tr>\n",
       "  </tbody>\n",
       "</table>\n",
       "</div>"
      ],
      "text/plain": [
       "                                      Service Desciption  \\\n",
       "11856  GroupDocs is an online document management pla...   \n",
       "\n",
       "      Service Classification  \n",
       "11856           File Sharing  "
      ]
     },
     "execution_count": 52,
     "metadata": {},
     "output_type": "execute_result"
    }
   ],
   "source": [
    "top50data[top50data['Service Desciption'] == max(top50data['Service Desciption'], key=len)]"
   ]
  },
  {
   "cell_type": "code",
   "execution_count": 53,
   "metadata": {},
   "outputs": [
    {
     "data": {
      "text/plain": [
       "'GroupDocs is an online document management platform. GroupDocs allows users and organizations to manage and revise documents, create digital signatures, collaborate on documents, and search for all documents within groups. Various annotation options such as highlighting, underlining, striking out text as well as leaving comments on the text/images are included to make the proof-reading process easier for users. GroupDocs Annotation API for Kentico provides developers with a set of annotation tools, such as Text annotation, Area annotation, Point annotation, Polyline annotation and Strike-out text. Functionality of the Annotation API such as Text or image annotation, collaboration or exporting documents, allows developers to have the ultimate document management experience. Users can upload any PDF file and share this document with their colleagues through GroupDocs Annotation App. Any review comment incorporated will be saved and users can export the annotated PDF document with all the comments and annotations in place. All these notes and comments become part of the new exported file and can be viewed in any popular PDF reader. Email addresses of the reviewers are also highlighted so that developers can keep track of the comments from different reviewers at the same time. The Kentico Annotation API lets users annotate documents in real-time as well as collect review comments individually. Users have th option to collaborate with colleagues to share ideas via comments and see reviews in real-time. GroupDocs Annotation API for Kentico provides developers with a marker counter on the sidebar to easily navigate through all the comments. Familiar editing tools such as highlight text, insert a shape, strike out text as well as draw freehand directly on the document are available. GroupDocs Annotation API for Kentico enables users to annotate images, pictures and graphics as easily as text. Users can invite collaborators to review and add comments in the document simultaneously. Users can also keep an offline as well as hard-copy of the annotated PDF document for future reference. Interested developers can refer to the documentation for the RESTful API available online.'"
      ]
     },
     "execution_count": 53,
     "metadata": {},
     "output_type": "execute_result"
    }
   ],
   "source": [
    "max(top50data['Service Desciption'], key=len)"
   ]
  },
  {
   "cell_type": "code",
   "execution_count": 54,
   "metadata": {},
   "outputs": [
    {
     "data": {
      "text/plain": [
       "334"
      ]
     },
     "execution_count": 54,
     "metadata": {},
     "output_type": "execute_result"
    }
   ],
   "source": [
    "len(max(top50data['Service Desciption'], key=len).split())"
   ]
  },
  {
   "cell_type": "markdown",
   "metadata": {},
   "source": [
    "### Min Length of the Description"
   ]
  },
  {
   "cell_type": "code",
   "execution_count": 55,
   "metadata": {},
   "outputs": [
    {
     "data": {
      "text/html": [
       "<div>\n",
       "<style scoped>\n",
       "    .dataframe tbody tr th:only-of-type {\n",
       "        vertical-align: middle;\n",
       "    }\n",
       "\n",
       "    .dataframe tbody tr th {\n",
       "        vertical-align: top;\n",
       "    }\n",
       "\n",
       "    .dataframe thead th {\n",
       "        text-align: right;\n",
       "    }\n",
       "</style>\n",
       "<table border=\"1\" class=\"dataframe\">\n",
       "  <thead>\n",
       "    <tr style=\"text-align: right;\">\n",
       "      <th></th>\n",
       "      <th>Service Desciption</th>\n",
       "      <th>Service Classification</th>\n",
       "    </tr>\n",
       "  </thead>\n",
       "  <tbody>\n",
       "    <tr>\n",
       "      <th>14766</th>\n",
       "      <td>Czech mapping API.</td>\n",
       "      <td>Mapping</td>\n",
       "    </tr>\n",
       "  </tbody>\n",
       "</table>\n",
       "</div>"
      ],
      "text/plain": [
       "       Service Desciption Service Classification\n",
       "14766  Czech mapping API.                Mapping"
      ]
     },
     "execution_count": 55,
     "metadata": {},
     "output_type": "execute_result"
    }
   ],
   "source": [
    "top50data[top50data['Service Desciption'] == min(top50data['Service Desciption'], key=len)]"
   ]
  },
  {
   "cell_type": "code",
   "execution_count": 56,
   "metadata": {
    "scrolled": true
   },
   "outputs": [
    {
     "data": {
      "text/plain": [
       "'Czech mapping API.'"
      ]
     },
     "execution_count": 56,
     "metadata": {},
     "output_type": "execute_result"
    }
   ],
   "source": [
    "min(top50data['Service Desciption'], key=len)"
   ]
  },
  {
   "cell_type": "code",
   "execution_count": 57,
   "metadata": {},
   "outputs": [
    {
     "data": {
      "text/plain": [
       "3"
      ]
     },
     "execution_count": 57,
     "metadata": {},
     "output_type": "execute_result"
    }
   ],
   "source": [
    "len(min(top50data['Service Desciption'], key=len).split())"
   ]
  },
  {
   "cell_type": "markdown",
   "metadata": {},
   "source": [
    "### Keep data within confidence level 90%"
   ]
  },
  {
   "cell_type": "code",
   "execution_count": 58,
   "metadata": {},
   "outputs": [],
   "source": [
    "f = lambda x : len(x.split())\n",
    "lens = top50data['Service Desciption'].apply(f)"
   ]
  },
  {
   "cell_type": "code",
   "execution_count": 59,
   "metadata": {},
   "outputs": [
    {
     "data": {
      "text/plain": [
       "67.32107328648353"
      ]
     },
     "execution_count": 59,
     "metadata": {},
     "output_type": "execute_result"
    }
   ],
   "source": [
    "mu = np.mean(lens)\n",
    "mu"
   ]
  },
  {
   "cell_type": "code",
   "execution_count": 60,
   "metadata": {},
   "outputs": [
    {
     "data": {
      "text/plain": [
       "25.984122728098882"
      ]
     },
     "execution_count": 60,
     "metadata": {},
     "output_type": "execute_result"
    }
   ],
   "source": [
    "sigma = np.std(lens)\n",
    "sigma"
   ]
  },
  {
   "cell_type": "code",
   "execution_count": 61,
   "metadata": {},
   "outputs": [
    {
     "data": {
      "text/plain": [
       "(24.58099477401788, 110.06115179894915)"
      ]
     },
     "execution_count": 61,
     "metadata": {},
     "output_type": "execute_result"
    }
   ],
   "source": [
    "interval = stats.norm.interval(0.9, mu, sigma) \n",
    "interval"
   ]
  },
  {
   "cell_type": "markdown",
   "metadata": {},
   "source": [
    "### Historgram of Length Distribution "
   ]
  },
  {
   "cell_type": "code",
   "execution_count": 63,
   "metadata": {},
   "outputs": [
    {
     "data": {
      "image/png": "[encoded data removed]",
      "text/plain": [
       "<Figure size 432x288 with 1 Axes>"
      ]
     },
     "metadata": {},
     "output_type": "display_data"
    }
   ],
   "source": [
    "plt.hist(lens, bins=500, facecolor='r',histtype='stepfilled')  \n",
    " \n",
    "plt.xlabel('Length')\n",
    "plt.ylabel('Number of Length')\n",
    "plt.title('Length Distribution of Service Description')\n",
    "plt.savefig('../Data/HistogramDescriptionLength.pdf', format='pdf', dpi=300)"
   ]
  },
  {
   "cell_type": "code",
   "execution_count": 64,
   "metadata": {},
   "outputs": [],
   "source": [
    "finaltop50data = top50data[(lens >= interval[0]) & (lens <= interval[1])]"
   ]
  },
  {
   "cell_type": "code",
   "execution_count": 75,
   "metadata": {},
   "outputs": [
    {
     "data": {
      "text/plain": [
       "(10184, 2)"
      ]
     },
     "execution_count": 75,
     "metadata": {},
     "output_type": "execute_result"
    }
   ],
   "source": [
    "finaltop50data.shape"
   ]
  },
  {
   "cell_type": "code",
   "execution_count": 76,
   "metadata": {},
   "outputs": [
    {
     "data": {
      "text/html": [
       "<div>\n",
       "<style scoped>\n",
       "    .dataframe tbody tr th:only-of-type {\n",
       "        vertical-align: middle;\n",
       "    }\n",
       "\n",
       "    .dataframe tbody tr th {\n",
       "        vertical-align: top;\n",
       "    }\n",
       "\n",
       "    .dataframe thead th {\n",
       "        text-align: right;\n",
       "    }\n",
       "</style>\n",
       "<table border=\"1\" class=\"dataframe\">\n",
       "  <thead>\n",
       "    <tr style=\"text-align: right;\">\n",
       "      <th></th>\n",
       "      <th>Service Desciption</th>\n",
       "      <th>Service Classification</th>\n",
       "    </tr>\n",
       "  </thead>\n",
       "  <tbody>\n",
       "    <tr>\n",
       "      <th>1</th>\n",
       "      <td>It has been split into multiple APIs, includin...</td>\n",
       "      <td>Social</td>\n",
       "    </tr>\n",
       "    <tr>\n",
       "      <th>3</th>\n",
       "      <td>The Flickr API can be used to retrieve photos ...</td>\n",
       "      <td>Photos</td>\n",
       "    </tr>\n",
       "    <tr>\n",
       "      <th>5</th>\n",
       "      <td>What was formerly the ECSeCommerce Servicehas ...</td>\n",
       "      <td>eCommerce</td>\n",
       "    </tr>\n",
       "    <tr>\n",
       "      <th>7</th>\n",
       "      <td>The Last.fm API gives users the ability to bui...</td>\n",
       "      <td>Music</td>\n",
       "    </tr>\n",
       "    <tr>\n",
       "      <th>10</th>\n",
       "      <td>Bing Maps API and Interactive SDK features an ...</td>\n",
       "      <td>Mapping</td>\n",
       "    </tr>\n",
       "  </tbody>\n",
       "</table>\n",
       "</div>"
      ],
      "text/plain": [
       "                                   Service Desciption Service Classification\n",
       "1   It has been split into multiple APIs, includin...                 Social\n",
       "3   The Flickr API can be used to retrieve photos ...                 Photos\n",
       "5   What was formerly the ECSeCommerce Servicehas ...              eCommerce\n",
       "7   The Last.fm API gives users the ability to bui...                  Music\n",
       "10  Bing Maps API and Interactive SDK features an ...                Mapping"
      ]
     },
     "execution_count": 76,
     "metadata": {},
     "output_type": "execute_result"
    }
   ],
   "source": [
    "finaltop50data.head()"
   ]
  },
  {
   "cell_type": "markdown",
   "metadata": {},
   "source": [
    "## Final Preview "
   ]
  },
  {
   "cell_type": "code",
   "execution_count": 81,
   "metadata": {},
   "outputs": [
    {
     "data": {
      "text/plain": [
       "(10184, 2)"
      ]
     },
     "execution_count": 81,
     "metadata": {},
     "output_type": "execute_result"
    }
   ],
   "source": [
    "finaltop50data.shape"
   ]
  },
  {
   "cell_type": "code",
   "execution_count": 67,
   "metadata": {},
   "outputs": [],
   "source": [
    "labelcount = finaltop50data['Service Classification'].value_counts()"
   ]
  },
  {
   "cell_type": "code",
   "execution_count": 68,
   "metadata": {},
   "outputs": [
    {
     "data": {
      "text/plain": [
       "Tools                      726\n",
       "Financial                  649\n",
       "Messaging                  481\n",
       "eCommerce                  430\n",
       "Payments                   423\n",
       "Social                     398\n",
       "Enterprise                 391\n",
       "Mapping                    331\n",
       "Telephony                  283\n",
       "Science                    274\n",
       "Government                 271\n",
       "Email                      237\n",
       "Security                   233\n",
       "Reference                  231\n",
       "Video                      231\n",
       "Travel                     222\n",
       "Sports                     215\n",
       "Search                     213\n",
       "Advertising                209\n",
       "Transportation             207\n",
       "Education                  201\n",
       "Games                      195\n",
       "Music                      182\n",
       "Photos                     173\n",
       "Cloud                      161\n",
       "Other                      142\n",
       "Bitcoin                    140\n",
       "Project Management         139\n",
       "Data                       136\n",
       "Backend                    132\n",
       "Database                   131\n",
       "Shipping                   127\n",
       "Weather                    114\n",
       "Application Development    112\n",
       "Analytics                  111\n",
       "Internet of Things         110\n",
       "Medical                    102\n",
       "Real Estate                102\n",
       "Events                     102\n",
       "Banking                     99\n",
       "Stocks                      94\n",
       "Entertainment               93\n",
       "Storage                     91\n",
       "Marketing                   79\n",
       "File Sharing                79\n",
       "News Services               78\n",
       "Domains                     77\n",
       "Chat                        76\n",
       "Media                       76\n",
       "Images                      75\n",
       "Name: Service Classification, dtype: int64"
      ]
     },
     "execution_count": 68,
     "metadata": {},
     "output_type": "execute_result"
    }
   ],
   "source": [
    "labelcount"
   ]
  },
  {
   "cell_type": "code",
   "execution_count": 86,
   "metadata": {},
   "outputs": [
    {
     "data": {
      "image/png": "[encoded data removed]",
      "text/plain": [
       "<Figure size 1800x1080 with 1 Axes>"
      ]
     },
     "metadata": {},
     "output_type": "display_data"
    }
   ],
   "source": [
    "plt.figure(figsize=(25, 15))\n",
    "labelcount.plot(kind='bar', fontsize=15)\n",
    "plt.savefig('../Data/PostPrecessingHistogramTop50.pdf', format='pdf', dpi=300)"
   ]
  },
  {
   "cell_type": "markdown",
   "metadata": {},
   "source": [
    "## 4. Save as CSV"
   ]
  },
  {
   "cell_type": "code",
   "execution_count": 77,
   "metadata": {},
   "outputs": [],
   "source": [
    "finaltop50data.to_csv('../Data/Service.csv', encoding='utf-8', index=False, header=True)"
   ]
  },
  {
   "cell_type": "markdown",
   "metadata": {},
   "source": [
    "## 5. Save to H5"
   ]
  },
  {
   "cell_type": "code",
   "execution_count": 80,
   "metadata": {},
   "outputs": [],
   "source": [
    "h5f = HDFStore('../Data/Service.h5')\n",
    "h5f.put('AllData', finaltop50data)\n",
    "h5f.close()"
   ]
  }
 ],
 "metadata": {
  "kernelspec": {
   "display_name": "Python 3",
   "language": "python",
   "name": "python3"
  },
  "language_info": {
   "codemirror_mode": {
    "name": "ipython",
    "version": 3
   },
   "file_extension": ".py",
   "mimetype": "text/x-python",
   "name": "python",
   "nbconvert_exporter": "python",
   "pygments_lexer": "ipython3",
   "version": "3.5.2"
  }
 },
 "nbformat": 4,
 "nbformat_minor": 2
}
